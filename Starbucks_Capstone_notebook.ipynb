{
 "cells": [
  {
   "cell_type": "code",
   "execution_count": 1,
   "metadata": {},
   "outputs": [],
   "source": [
    "import pandas as pd\n",
    "import numpy as np\n",
    "import math\n",
    "import json\n",
    "# % matplotlib inline\n",
    "import matplotlib.pyplot as plt\n",
    "import datetime\n",
    "from prepare_data import *"
   ]
  },
  {
   "cell_type": "code",
   "execution_count": 122,
   "metadata": {},
   "outputs": [
    {
     "data": {
      "application/javascript": [
       "\n",
       "            setTimeout(function() {\n",
       "                var nbb_cell_id = 122;\n",
       "                var nbb_unformatted_code = \"from sklearn.model_selection import train_test_split\\nfrom sklearn.linear_model import LogisticRegression\\nfrom sklearn.metrics import confusion_matrix\\nfrom sklearn.metrics import classification_report\\nfrom sklearn.metrics import roc_curve\\nfrom sklearn.metrics import roc_auc_score\\nfrom sklearn.preprocessing import MinMaxScaler\\nfrom sklearn.ensemble import RandomForestClassifier\\nfrom sklearn.model_selection import GridSearchCV\\nfrom sklearn.pipeline import Pipeline\";\n",
       "                var nbb_formatted_code = \"from sklearn.model_selection import train_test_split\\nfrom sklearn.linear_model import LogisticRegression\\nfrom sklearn.metrics import confusion_matrix\\nfrom sklearn.metrics import classification_report\\nfrom sklearn.metrics import roc_curve\\nfrom sklearn.metrics import roc_auc_score\\nfrom sklearn.preprocessing import MinMaxScaler\\nfrom sklearn.ensemble import RandomForestClassifier\\nfrom sklearn.model_selection import GridSearchCV\\nfrom sklearn.pipeline import Pipeline\";\n",
       "                var nbb_cells = Jupyter.notebook.get_cells();\n",
       "                for (var i = 0; i < nbb_cells.length; ++i) {\n",
       "                    if (nbb_cells[i].input_prompt_number == nbb_cell_id) {\n",
       "                        if (nbb_cells[i].get_text() == nbb_unformatted_code) {\n",
       "                             nbb_cells[i].set_text(nbb_formatted_code);\n",
       "                        }\n",
       "                        break;\n",
       "                    }\n",
       "                }\n",
       "            }, 500);\n",
       "            "
      ],
      "text/plain": [
       "<IPython.core.display.Javascript object>"
      ]
     },
     "metadata": {},
     "output_type": "display_data"
    }
   ],
   "source": [
    "from sklearn.model_selection import train_test_split\n",
    "from sklearn.linear_model import LogisticRegression\n",
    "from sklearn.metrics import confusion_matrix\n",
    "from sklearn.metrics import classification_report\n",
    "from sklearn.metrics import roc_curve\n",
    "from sklearn.metrics import roc_auc_score\n",
    "from sklearn.preprocessing import MinMaxScaler\n",
    "from sklearn.ensemble import RandomForestClassifier\n",
    "from sklearn.model_selection import GridSearchCV\n",
    "from sklearn.pipeline import Pipeline"
   ]
  },
  {
   "cell_type": "code",
   "execution_count": 70,
   "metadata": {},
   "outputs": [
    {
     "data": {
      "application/javascript": [
       "\n",
       "            setTimeout(function() {\n",
       "                var nbb_cell_id = 70;\n",
       "                var nbb_unformatted_code = \"%reload_ext nb_black\";\n",
       "                var nbb_formatted_code = \"%reload_ext nb_black\";\n",
       "                var nbb_cells = Jupyter.notebook.get_cells();\n",
       "                for (var i = 0; i < nbb_cells.length; ++i) {\n",
       "                    if (nbb_cells[i].input_prompt_number == nbb_cell_id) {\n",
       "                        if (nbb_cells[i].get_text() == nbb_unformatted_code) {\n",
       "                             nbb_cells[i].set_text(nbb_formatted_code);\n",
       "                        }\n",
       "                        break;\n",
       "                    }\n",
       "                }\n",
       "            }, 500);\n",
       "            "
      ],
      "text/plain": [
       "<IPython.core.display.Javascript object>"
      ]
     },
     "metadata": {},
     "output_type": "display_data"
    }
   ],
   "source": [
    "%reload_ext nb_black"
   ]
  },
  {
   "cell_type": "code",
   "execution_count": 26,
   "metadata": {},
   "outputs": [],
   "source": [
    "pd.set_option('display.max_columns', None)\n",
    "pd.set_option('display.max_rows', None)"
   ]
  },
  {
   "cell_type": "code",
   "execution_count": 3,
   "metadata": {},
   "outputs": [],
   "source": [
    "# read in the json files\n",
    "\n",
    "portfolio = pd.read_json('data/portfolio.json', orient='records', lines=True)\n",
    "profile = pd.read_json('data/profile.json', orient='records', lines=True)\n",
    "transcript = pd.read_json('data/transcript.json', orient='records', lines=True)"
   ]
  },
  {
   "cell_type": "markdown",
   "metadata": {},
   "source": [
    "### Prepare data"
   ]
  },
  {
   "cell_type": "code",
   "execution_count": 4,
   "metadata": {},
   "outputs": [
    {
     "name": "stderr",
     "output_type": "stream",
     "text": [
      "c:\\users\\bryan\\appdata\\local\\programs\\python\\python39\\lib\\site-packages\\pandas\\core\\frame.py:3607: SettingWithCopyWarning: \n",
      "A value is trying to be set on a copy of a slice from a DataFrame.\n",
      "Try using .loc[row_indexer,col_indexer] = value instead\n",
      "\n",
      "See the caveats in the documentation: https://pandas.pydata.org/pandas-docs/stable/user_guide/indexing.html#returning-a-view-versus-a-copy\n",
      "  self._set_item(key, value)\n"
     ]
    }
   ],
   "source": [
    "profile = process_profile(profile) \n",
    "portfolio = process_portfolio(portfolio)"
   ]
  },
  {
   "cell_type": "markdown",
   "metadata": {},
   "source": [
    "Create a master dataset containing the following on a line by line basis:\n",
    "- person (str) - customer id.\n",
    "- offer_id (str) - id of offer received .\n",
    "- offer_received_day (int) - days since the start of the study when the offer is received.\n",
    "- offer_end_day (int) - days since the start of the study when the offer expires.\n",
    "- offer_viewed (dummy) - whether the offer was viewed.\n",
    "- offer_completed (dummy) - whether the offer was completed.\n",
    "- offer_completed_day (int) - days since the start of the study when the offer is completed.\n",
    "- transaction (int) - amount spent between the offer received day and the earlier of the offer expiry date and the offer completion date.\n",
    "- offer_worked (dummy) - whether the offer worked.\n",
    "- offer_type (str) - whether offer is informational, bogo or discount.\n",
    "- reward (int) - reward that customer gets from the offer.\n",
    "- difficulty (int) - amount that customer needs to spend for the offer.\n",
    "- duration (int) - number of days that offer lasts before expiring.\n",
    "- bogo (dummy) - whether offer is bogo.\n",
    "- discount (dummy) - whether offer is discount. \n",
    "- informational (dummy) - whether offer is informational.\n",
    "- gender_F (dummy) - whether gender is female. \n",
    "- gender_M (dummy) - whether gender is male.\n",
    "- gender_O (dummy) - whether gender is other.\n",
    "- web (dummy) - whether offer channel is web.\n",
    "- email (dummy) - whether offer channel is email.\n",
    "- mobile (dummy) - whether offer channel is mobile.\n",
    "- social media (dummy) - whether offer channel is social media.\n",
    "- age (int) - age of customer.\n",
    "- income (int) - annual income of customer.\n",
    "- membership_years (int) - duration of membership in years. "
   ]
  },
  {
   "cell_type": "code",
   "execution_count": 5,
   "metadata": {},
   "outputs": [],
   "source": [
    "merged_df = create_merged_df(transcript,profile, portfolio )"
   ]
  },
  {
   "cell_type": "code",
   "execution_count": 71,
   "metadata": {},
   "outputs": [
    {
     "data": {
      "application/javascript": [
       "\n",
       "            setTimeout(function() {\n",
       "                var nbb_cell_id = 71;\n",
       "                var nbb_unformatted_code = \"master_df = merged_df.copy()\";\n",
       "                var nbb_formatted_code = \"master_df = merged_df.copy()\";\n",
       "                var nbb_cells = Jupyter.notebook.get_cells();\n",
       "                for (var i = 0; i < nbb_cells.length; ++i) {\n",
       "                    if (nbb_cells[i].input_prompt_number == nbb_cell_id) {\n",
       "                        if (nbb_cells[i].get_text() == nbb_unformatted_code) {\n",
       "                             nbb_cells[i].set_text(nbb_formatted_code);\n",
       "                        }\n",
       "                        break;\n",
       "                    }\n",
       "                }\n",
       "            }, 500);\n",
       "            "
      ],
      "text/plain": [
       "<IPython.core.display.Javascript object>"
      ]
     },
     "metadata": {},
     "output_type": "display_data"
    }
   ],
   "source": [
    "master_df = merged_df.copy()"
   ]
  },
  {
   "cell_type": "code",
   "execution_count": 72,
   "metadata": {},
   "outputs": [
    {
     "data": {
      "application/javascript": [
       "\n",
       "            setTimeout(function() {\n",
       "                var nbb_cell_id = 72;\n",
       "                var nbb_unformatted_code = \"master_df.loc[(master_df.offer_viewed==1)&(master_df.offer_completed==1), \\\"offer_worked\\\"]=1\\nmaster_df.loc[~((master_df.offer_viewed==1)&(master_df.offer_completed==1)), \\\"offer_worked\\\"]=0\";\n",
       "                var nbb_formatted_code = \"master_df.loc[\\n    (master_df.offer_viewed == 1) & (master_df.offer_completed == 1), \\\"offer_worked\\\"\\n] = 1\\nmaster_df.loc[\\n    ~((master_df.offer_viewed == 1) & (master_df.offer_completed == 1)), \\\"offer_worked\\\"\\n] = 0\";\n",
       "                var nbb_cells = Jupyter.notebook.get_cells();\n",
       "                for (var i = 0; i < nbb_cells.length; ++i) {\n",
       "                    if (nbb_cells[i].input_prompt_number == nbb_cell_id) {\n",
       "                        if (nbb_cells[i].get_text() == nbb_unformatted_code) {\n",
       "                             nbb_cells[i].set_text(nbb_formatted_code);\n",
       "                        }\n",
       "                        break;\n",
       "                    }\n",
       "                }\n",
       "            }, 500);\n",
       "            "
      ],
      "text/plain": [
       "<IPython.core.display.Javascript object>"
      ]
     },
     "metadata": {},
     "output_type": "display_data"
    }
   ],
   "source": [
    "master_df.loc[\n",
    "    (master_df.offer_viewed == 1) & (master_df.offer_completed == 1), \"offer_worked\"\n",
    "] = 1\n",
    "master_df.loc[\n",
    "    ~((master_df.offer_viewed == 1) & (master_df.offer_completed == 1)), \"offer_worked\"\n",
    "] = 0"
   ]
  },
  {
   "cell_type": "code",
   "execution_count": 73,
   "metadata": {},
   "outputs": [
    {
     "data": {
      "text/plain": [
       "0.0    44287\n",
       "1.0    22214\n",
       "Name: offer_worked, dtype: int64"
      ]
     },
     "execution_count": 73,
     "metadata": {},
     "output_type": "execute_result"
    },
    {
     "data": {
      "application/javascript": [
       "\n",
       "            setTimeout(function() {\n",
       "                var nbb_cell_id = 73;\n",
       "                var nbb_unformatted_code = \"master_df.offer_worked.value_counts()\";\n",
       "                var nbb_formatted_code = \"master_df.offer_worked.value_counts()\";\n",
       "                var nbb_cells = Jupyter.notebook.get_cells();\n",
       "                for (var i = 0; i < nbb_cells.length; ++i) {\n",
       "                    if (nbb_cells[i].input_prompt_number == nbb_cell_id) {\n",
       "                        if (nbb_cells[i].get_text() == nbb_unformatted_code) {\n",
       "                             nbb_cells[i].set_text(nbb_formatted_code);\n",
       "                        }\n",
       "                        break;\n",
       "                    }\n",
       "                }\n",
       "            }, 500);\n",
       "            "
      ],
      "text/plain": [
       "<IPython.core.display.Javascript object>"
      ]
     },
     "metadata": {},
     "output_type": "display_data"
    }
   ],
   "source": [
    "master_df.offer_worked.value_counts()"
   ]
  },
  {
   "cell_type": "code",
   "execution_count": 74,
   "metadata": {},
   "outputs": [
    {
     "data": {
      "application/javascript": [
       "\n",
       "            setTimeout(function() {\n",
       "                var nbb_cell_id = 74;\n",
       "                var nbb_unformatted_code = \"master_df = master_df.merge(portfolio[[\\\"offer_id\\\",\\\"offer_type\\\",\\\"reward\\\",\\\"difficulty\\\",\\\"duration\\\",\\\"web\\\",\\\"email\\\",\\\"mobile\\\",\\\"social\\\"]],\\\"left\\\",on=\\\"offer_id\\\")\\nmaster_df = master_df.merge(profile[['gender', 'age', 'person', 'income',\\n        'membership_years']],\\\"left\\\",on=\\\"person\\\")\";\n",
       "                var nbb_formatted_code = \"master_df = master_df.merge(\\n    portfolio[\\n        [\\n            \\\"offer_id\\\",\\n            \\\"offer_type\\\",\\n            \\\"reward\\\",\\n            \\\"difficulty\\\",\\n            \\\"duration\\\",\\n            \\\"web\\\",\\n            \\\"email\\\",\\n            \\\"mobile\\\",\\n            \\\"social\\\",\\n        ]\\n    ],\\n    \\\"left\\\",\\n    on=\\\"offer_id\\\",\\n)\\nmaster_df = master_df.merge(\\n    profile[[\\\"gender\\\", \\\"age\\\", \\\"person\\\", \\\"income\\\", \\\"membership_years\\\"]],\\n    \\\"left\\\",\\n    on=\\\"person\\\",\\n)\";\n",
       "                var nbb_cells = Jupyter.notebook.get_cells();\n",
       "                for (var i = 0; i < nbb_cells.length; ++i) {\n",
       "                    if (nbb_cells[i].input_prompt_number == nbb_cell_id) {\n",
       "                        if (nbb_cells[i].get_text() == nbb_unformatted_code) {\n",
       "                             nbb_cells[i].set_text(nbb_formatted_code);\n",
       "                        }\n",
       "                        break;\n",
       "                    }\n",
       "                }\n",
       "            }, 500);\n",
       "            "
      ],
      "text/plain": [
       "<IPython.core.display.Javascript object>"
      ]
     },
     "metadata": {},
     "output_type": "display_data"
    }
   ],
   "source": [
    "master_df = master_df.merge(\n",
    "    portfolio[\n",
    "        [\n",
    "            \"offer_id\",\n",
    "            \"offer_type\",\n",
    "            \"reward\",\n",
    "            \"difficulty\",\n",
    "            \"duration\",\n",
    "            \"web\",\n",
    "            \"email\",\n",
    "            \"mobile\",\n",
    "            \"social\",\n",
    "        ]\n",
    "    ],\n",
    "    \"left\",\n",
    "    on=\"offer_id\",\n",
    ")\n",
    "master_df = master_df.merge(\n",
    "    profile[[\"gender\", \"age\", \"person\", \"income\", \"membership_years\"]],\n",
    "    \"left\",\n",
    "    on=\"person\",\n",
    ")"
   ]
  },
  {
   "cell_type": "code",
   "execution_count": 75,
   "metadata": {},
   "outputs": [
    {
     "data": {
      "application/javascript": [
       "\n",
       "            setTimeout(function() {\n",
       "                var nbb_cell_id = 75;\n",
       "                var nbb_unformatted_code = \"## For those informational offeres, we consider the offer to work if it is viewed and customer spends money before offer ends\\nmaster_df.loc[(master_df.offer_type==\\\"informational\\\")&(master_df.transaction>0)&(master_df.offer_viewed==1), \\\"offer_worked\\\"]=1\";\n",
       "                var nbb_formatted_code = \"## For those informational offeres, we consider the offer to work if it is viewed and customer spends money before offer ends\\nmaster_df.loc[\\n    (master_df.offer_type == \\\"informational\\\")\\n    & (master_df.transaction > 0)\\n    & (master_df.offer_viewed == 1),\\n    \\\"offer_worked\\\",\\n] = 1\";\n",
       "                var nbb_cells = Jupyter.notebook.get_cells();\n",
       "                for (var i = 0; i < nbb_cells.length; ++i) {\n",
       "                    if (nbb_cells[i].input_prompt_number == nbb_cell_id) {\n",
       "                        if (nbb_cells[i].get_text() == nbb_unformatted_code) {\n",
       "                             nbb_cells[i].set_text(nbb_formatted_code);\n",
       "                        }\n",
       "                        break;\n",
       "                    }\n",
       "                }\n",
       "            }, 500);\n",
       "            "
      ],
      "text/plain": [
       "<IPython.core.display.Javascript object>"
      ]
     },
     "metadata": {},
     "output_type": "display_data"
    }
   ],
   "source": [
    "## For those informational offeres, we consider the offer to work if it is viewed and customer spends money before offer ends\n",
    "master_df.loc[(master_df.offer_type==\"informational\")&(master_df.transaction>0)&(master_df.offer_viewed==1), \"offer_worked\"]=1\n"
   ]
  },
  {
   "cell_type": "code",
   "execution_count": 76,
   "metadata": {},
   "outputs": [
    {
     "data": {
      "application/javascript": [
       "\n",
       "            setTimeout(function() {\n",
       "                var nbb_cell_id = 76;\n",
       "                var nbb_unformatted_code = \"# One hot encoding for offer type\\noffer_dummies = pd.get_dummies(master_df.offer_type)\\nmaster_df = pd.concat([master_df,offer_dummies],axis='columns')\\n# One hot encoding for gender\\ngender_dummies = pd.get_dummies(master_df.gender,prefix=\\\"gender\\\")\\nmaster_df = pd.concat([master_df,gender_dummies],axis='columns')\";\n",
       "                var nbb_formatted_code = \"# One hot encoding for offer type\\noffer_dummies = pd.get_dummies(master_df.offer_type)\\nmaster_df = pd.concat([master_df, offer_dummies], axis=\\\"columns\\\")\\n# One hot encoding for gender\\ngender_dummies = pd.get_dummies(master_df.gender, prefix=\\\"gender\\\")\\nmaster_df = pd.concat([master_df, gender_dummies], axis=\\\"columns\\\")\";\n",
       "                var nbb_cells = Jupyter.notebook.get_cells();\n",
       "                for (var i = 0; i < nbb_cells.length; ++i) {\n",
       "                    if (nbb_cells[i].input_prompt_number == nbb_cell_id) {\n",
       "                        if (nbb_cells[i].get_text() == nbb_unformatted_code) {\n",
       "                             nbb_cells[i].set_text(nbb_formatted_code);\n",
       "                        }\n",
       "                        break;\n",
       "                    }\n",
       "                }\n",
       "            }, 500);\n",
       "            "
      ],
      "text/plain": [
       "<IPython.core.display.Javascript object>"
      ]
     },
     "metadata": {},
     "output_type": "display_data"
    }
   ],
   "source": [
    "# One hot encoding for offer type\n",
    "offer_dummies = pd.get_dummies(master_df.offer_type)\n",
    "master_df = pd.concat([master_df,offer_dummies],axis='columns')\n",
    "# One hot encoding for gender\n",
    "gender_dummies = pd.get_dummies(master_df.gender,prefix=\"gender\")\n",
    "master_df = pd.concat([master_df,gender_dummies],axis='columns')\n"
   ]
  },
  {
   "cell_type": "code",
   "execution_count": 77,
   "metadata": {
    "scrolled": true
   },
   "outputs": [
    {
     "data": {
      "text/html": [
       "<div>\n",
       "<style scoped>\n",
       "    .dataframe tbody tr th:only-of-type {\n",
       "        vertical-align: middle;\n",
       "    }\n",
       "\n",
       "    .dataframe tbody tr th {\n",
       "        vertical-align: top;\n",
       "    }\n",
       "\n",
       "    .dataframe thead th {\n",
       "        text-align: right;\n",
       "    }\n",
       "</style>\n",
       "<table border=\"1\" class=\"dataframe\">\n",
       "  <thead>\n",
       "    <tr style=\"text-align: right;\">\n",
       "      <th></th>\n",
       "      <th>person</th>\n",
       "      <th>offer_id</th>\n",
       "      <th>offer_received_day</th>\n",
       "      <th>offer_end_day</th>\n",
       "      <th>offer_viewed</th>\n",
       "      <th>offer_completed</th>\n",
       "      <th>offer_completed_day</th>\n",
       "      <th>transaction</th>\n",
       "      <th>offer_worked</th>\n",
       "      <th>offer_type</th>\n",
       "      <th>reward</th>\n",
       "      <th>difficulty</th>\n",
       "      <th>duration</th>\n",
       "      <th>web</th>\n",
       "      <th>email</th>\n",
       "      <th>mobile</th>\n",
       "      <th>social</th>\n",
       "      <th>gender</th>\n",
       "      <th>age</th>\n",
       "      <th>income</th>\n",
       "      <th>membership_years</th>\n",
       "      <th>bogo</th>\n",
       "      <th>discount</th>\n",
       "      <th>informational</th>\n",
       "      <th>gender_F</th>\n",
       "      <th>gender_M</th>\n",
       "      <th>gender_O</th>\n",
       "    </tr>\n",
       "  </thead>\n",
       "  <tbody>\n",
       "    <tr>\n",
       "      <th>0</th>\n",
       "      <td>0009655768c64bdeb2e877511632db8f</td>\n",
       "      <td>5a8bc65990b245e5a138643cd4eb9837</td>\n",
       "      <td>7.0</td>\n",
       "      <td>10.0</td>\n",
       "      <td>1</td>\n",
       "      <td>0</td>\n",
       "      <td>NaN</td>\n",
       "      <td>22.16</td>\n",
       "      <td>1.0</td>\n",
       "      <td>informational</td>\n",
       "      <td>0</td>\n",
       "      <td>0</td>\n",
       "      <td>3</td>\n",
       "      <td>0</td>\n",
       "      <td>1</td>\n",
       "      <td>1</td>\n",
       "      <td>1</td>\n",
       "      <td>M</td>\n",
       "      <td>33</td>\n",
       "      <td>72000.0</td>\n",
       "      <td>4.561644</td>\n",
       "      <td>0</td>\n",
       "      <td>0</td>\n",
       "      <td>1</td>\n",
       "      <td>0</td>\n",
       "      <td>1</td>\n",
       "      <td>0</td>\n",
       "    </tr>\n",
       "    <tr>\n",
       "      <th>1</th>\n",
       "      <td>0009655768c64bdeb2e877511632db8f</td>\n",
       "      <td>3f207df678b143eea3cee63160fa8bed</td>\n",
       "      <td>14.0</td>\n",
       "      <td>18.0</td>\n",
       "      <td>1</td>\n",
       "      <td>0</td>\n",
       "      <td>NaN</td>\n",
       "      <td>8.57</td>\n",
       "      <td>1.0</td>\n",
       "      <td>informational</td>\n",
       "      <td>0</td>\n",
       "      <td>0</td>\n",
       "      <td>4</td>\n",
       "      <td>1</td>\n",
       "      <td>1</td>\n",
       "      <td>1</td>\n",
       "      <td>0</td>\n",
       "      <td>M</td>\n",
       "      <td>33</td>\n",
       "      <td>72000.0</td>\n",
       "      <td>4.561644</td>\n",
       "      <td>0</td>\n",
       "      <td>0</td>\n",
       "      <td>1</td>\n",
       "      <td>0</td>\n",
       "      <td>1</td>\n",
       "      <td>0</td>\n",
       "    </tr>\n",
       "    <tr>\n",
       "      <th>2</th>\n",
       "      <td>0009655768c64bdeb2e877511632db8f</td>\n",
       "      <td>f19421c1d4aa40978ebb69ca19b0e20d</td>\n",
       "      <td>17.0</td>\n",
       "      <td>22.0</td>\n",
       "      <td>0</td>\n",
       "      <td>1</td>\n",
       "      <td>17.25</td>\n",
       "      <td>8.57</td>\n",
       "      <td>0.0</td>\n",
       "      <td>bogo</td>\n",
       "      <td>5</td>\n",
       "      <td>5</td>\n",
       "      <td>5</td>\n",
       "      <td>1</td>\n",
       "      <td>1</td>\n",
       "      <td>1</td>\n",
       "      <td>1</td>\n",
       "      <td>M</td>\n",
       "      <td>33</td>\n",
       "      <td>72000.0</td>\n",
       "      <td>4.561644</td>\n",
       "      <td>1</td>\n",
       "      <td>0</td>\n",
       "      <td>0</td>\n",
       "      <td>0</td>\n",
       "      <td>1</td>\n",
       "      <td>0</td>\n",
       "    </tr>\n",
       "    <tr>\n",
       "      <th>3</th>\n",
       "      <td>0009655768c64bdeb2e877511632db8f</td>\n",
       "      <td>fafdcd668e3743c1bb461111dcafc2a4</td>\n",
       "      <td>21.0</td>\n",
       "      <td>31.0</td>\n",
       "      <td>0</td>\n",
       "      <td>1</td>\n",
       "      <td>22.00</td>\n",
       "      <td>14.11</td>\n",
       "      <td>0.0</td>\n",
       "      <td>discount</td>\n",
       "      <td>2</td>\n",
       "      <td>10</td>\n",
       "      <td>10</td>\n",
       "      <td>1</td>\n",
       "      <td>1</td>\n",
       "      <td>1</td>\n",
       "      <td>1</td>\n",
       "      <td>M</td>\n",
       "      <td>33</td>\n",
       "      <td>72000.0</td>\n",
       "      <td>4.561644</td>\n",
       "      <td>0</td>\n",
       "      <td>1</td>\n",
       "      <td>0</td>\n",
       "      <td>0</td>\n",
       "      <td>1</td>\n",
       "      <td>0</td>\n",
       "    </tr>\n",
       "    <tr>\n",
       "      <th>4</th>\n",
       "      <td>0009655768c64bdeb2e877511632db8f</td>\n",
       "      <td>2906b810c7d4411798c6938adc9daaa5</td>\n",
       "      <td>24.0</td>\n",
       "      <td>31.0</td>\n",
       "      <td>0</td>\n",
       "      <td>1</td>\n",
       "      <td>24.00</td>\n",
       "      <td>10.27</td>\n",
       "      <td>0.0</td>\n",
       "      <td>discount</td>\n",
       "      <td>2</td>\n",
       "      <td>10</td>\n",
       "      <td>7</td>\n",
       "      <td>1</td>\n",
       "      <td>1</td>\n",
       "      <td>1</td>\n",
       "      <td>0</td>\n",
       "      <td>M</td>\n",
       "      <td>33</td>\n",
       "      <td>72000.0</td>\n",
       "      <td>4.561644</td>\n",
       "      <td>0</td>\n",
       "      <td>1</td>\n",
       "      <td>0</td>\n",
       "      <td>0</td>\n",
       "      <td>1</td>\n",
       "      <td>0</td>\n",
       "    </tr>\n",
       "  </tbody>\n",
       "</table>\n",
       "</div>"
      ],
      "text/plain": [
       "                             person                          offer_id  \\\n",
       "0  0009655768c64bdeb2e877511632db8f  5a8bc65990b245e5a138643cd4eb9837   \n",
       "1  0009655768c64bdeb2e877511632db8f  3f207df678b143eea3cee63160fa8bed   \n",
       "2  0009655768c64bdeb2e877511632db8f  f19421c1d4aa40978ebb69ca19b0e20d   \n",
       "3  0009655768c64bdeb2e877511632db8f  fafdcd668e3743c1bb461111dcafc2a4   \n",
       "4  0009655768c64bdeb2e877511632db8f  2906b810c7d4411798c6938adc9daaa5   \n",
       "\n",
       "   offer_received_day  offer_end_day  offer_viewed  offer_completed  \\\n",
       "0                 7.0           10.0             1                0   \n",
       "1                14.0           18.0             1                0   \n",
       "2                17.0           22.0             0                1   \n",
       "3                21.0           31.0             0                1   \n",
       "4                24.0           31.0             0                1   \n",
       "\n",
       "   offer_completed_day  transaction  offer_worked     offer_type  reward  \\\n",
       "0                  NaN        22.16           1.0  informational       0   \n",
       "1                  NaN         8.57           1.0  informational       0   \n",
       "2                17.25         8.57           0.0           bogo       5   \n",
       "3                22.00        14.11           0.0       discount       2   \n",
       "4                24.00        10.27           0.0       discount       2   \n",
       "\n",
       "   difficulty  duration  web  email  mobile  social gender  age   income  \\\n",
       "0           0         3    0      1       1       1      M   33  72000.0   \n",
       "1           0         4    1      1       1       0      M   33  72000.0   \n",
       "2           5         5    1      1       1       1      M   33  72000.0   \n",
       "3          10        10    1      1       1       1      M   33  72000.0   \n",
       "4          10         7    1      1       1       0      M   33  72000.0   \n",
       "\n",
       "   membership_years  bogo  discount  informational  gender_F  gender_M  \\\n",
       "0          4.561644     0         0              1         0         1   \n",
       "1          4.561644     0         0              1         0         1   \n",
       "2          4.561644     1         0              0         0         1   \n",
       "3          4.561644     0         1              0         0         1   \n",
       "4          4.561644     0         1              0         0         1   \n",
       "\n",
       "   gender_O  \n",
       "0         0  \n",
       "1         0  \n",
       "2         0  \n",
       "3         0  \n",
       "4         0  "
      ]
     },
     "execution_count": 77,
     "metadata": {},
     "output_type": "execute_result"
    },
    {
     "data": {
      "application/javascript": [
       "\n",
       "            setTimeout(function() {\n",
       "                var nbb_cell_id = 77;\n",
       "                var nbb_unformatted_code = \"master_df.head()\";\n",
       "                var nbb_formatted_code = \"master_df.head()\";\n",
       "                var nbb_cells = Jupyter.notebook.get_cells();\n",
       "                for (var i = 0; i < nbb_cells.length; ++i) {\n",
       "                    if (nbb_cells[i].input_prompt_number == nbb_cell_id) {\n",
       "                        if (nbb_cells[i].get_text() == nbb_unformatted_code) {\n",
       "                             nbb_cells[i].set_text(nbb_formatted_code);\n",
       "                        }\n",
       "                        break;\n",
       "                    }\n",
       "                }\n",
       "            }, 500);\n",
       "            "
      ],
      "text/plain": [
       "<IPython.core.display.Javascript object>"
      ]
     },
     "metadata": {},
     "output_type": "display_data"
    }
   ],
   "source": [
    "master_df.head()"
   ]
  },
  {
   "cell_type": "markdown",
   "metadata": {},
   "source": [
    "### Data Exploration"
   ]
  },
  {
   "cell_type": "markdown",
   "metadata": {},
   "source": [
    "#### profile data"
   ]
  },
  {
   "cell_type": "code",
   "execution_count": 78,
   "metadata": {},
   "outputs": [
    {
     "data": {
      "text/plain": [
       "<AxesSubplot:>"
      ]
     },
     "execution_count": 78,
     "metadata": {},
     "output_type": "execute_result"
    },
    {
     "data": {
      "image/png": "[encoded data removed]",
      "text/plain": [
       "<Figure size 432x288 with 1 Axes>"
      ]
     },
     "metadata": {
      "needs_background": "light"
     },
     "output_type": "display_data"
    },
    {
     "data": {
      "application/javascript": [
       "\n",
       "            setTimeout(function() {\n",
       "                var nbb_cell_id = 78;\n",
       "                var nbb_unformatted_code = \"# Majority of customers are males\\nprofile.gender.value_counts().plot(kind='bar')\";\n",
       "                var nbb_formatted_code = \"# Majority of customers are males\\nprofile.gender.value_counts().plot(kind=\\\"bar\\\")\";\n",
       "                var nbb_cells = Jupyter.notebook.get_cells();\n",
       "                for (var i = 0; i < nbb_cells.length; ++i) {\n",
       "                    if (nbb_cells[i].input_prompt_number == nbb_cell_id) {\n",
       "                        if (nbb_cells[i].get_text() == nbb_unformatted_code) {\n",
       "                             nbb_cells[i].set_text(nbb_formatted_code);\n",
       "                        }\n",
       "                        break;\n",
       "                    }\n",
       "                }\n",
       "            }, 500);\n",
       "            "
      ],
      "text/plain": [
       "<IPython.core.display.Javascript object>"
      ]
     },
     "metadata": {},
     "output_type": "display_data"
    }
   ],
   "source": [
    "# Majority of customers are males\n",
    "profile.gender.value_counts().plot(kind=\"bar\")"
   ]
  },
  {
   "cell_type": "code",
   "execution_count": 79,
   "metadata": {
    "scrolled": true
   },
   "outputs": [
    {
     "data": {
      "image/png": "[encoded data removed]",
      "text/plain": [
       "<Figure size 432x288 with 1 Axes>"
      ]
     },
     "metadata": {
      "needs_background": "light"
     },
     "output_type": "display_data"
    },
    {
     "data": {
      "application/javascript": [
       "\n",
       "            setTimeout(function() {\n",
       "                var nbb_cell_id = 79;\n",
       "                var nbb_unformatted_code = \"# Majority of customers between 50 to 60 years old\\nplt.hist(profile.age, bins=30);\";\n",
       "                var nbb_formatted_code = \"# Majority of customers between 50 to 60 years old\\nplt.hist(profile.age, bins=30)\";\n",
       "                var nbb_cells = Jupyter.notebook.get_cells();\n",
       "                for (var i = 0; i < nbb_cells.length; ++i) {\n",
       "                    if (nbb_cells[i].input_prompt_number == nbb_cell_id) {\n",
       "                        if (nbb_cells[i].get_text() == nbb_unformatted_code) {\n",
       "                             nbb_cells[i].set_text(nbb_formatted_code);\n",
       "                        }\n",
       "                        break;\n",
       "                    }\n",
       "                }\n",
       "            }, 500);\n",
       "            "
      ],
      "text/plain": [
       "<IPython.core.display.Javascript object>"
      ]
     },
     "metadata": {},
     "output_type": "display_data"
    }
   ],
   "source": [
    "# Majority of customers between 50 to 60 years old\n",
    "plt.hist(profile.age, bins=30)"
   ]
  },
  {
   "cell_type": "code",
   "execution_count": 80,
   "metadata": {},
   "outputs": [
    {
     "data": {
      "text/plain": [
       "54.39352445193929"
      ]
     },
     "execution_count": 80,
     "metadata": {},
     "output_type": "execute_result"
    },
    {
     "data": {
      "application/javascript": [
       "\n",
       "            setTimeout(function() {\n",
       "                var nbb_cell_id = 80;\n",
       "                var nbb_unformatted_code = \"# Mean age is 54 years old\\nprofile.age.mean()\";\n",
       "                var nbb_formatted_code = \"# Mean age is 54 years old\\nprofile.age.mean()\";\n",
       "                var nbb_cells = Jupyter.notebook.get_cells();\n",
       "                for (var i = 0; i < nbb_cells.length; ++i) {\n",
       "                    if (nbb_cells[i].input_prompt_number == nbb_cell_id) {\n",
       "                        if (nbb_cells[i].get_text() == nbb_unformatted_code) {\n",
       "                             nbb_cells[i].set_text(nbb_formatted_code);\n",
       "                        }\n",
       "                        break;\n",
       "                    }\n",
       "                }\n",
       "            }, 500);\n",
       "            "
      ],
      "text/plain": [
       "<IPython.core.display.Javascript object>"
      ]
     },
     "metadata": {},
     "output_type": "display_data"
    }
   ],
   "source": [
    "# Mean age is 54 years old\n",
    "profile.age.mean()"
   ]
  },
  {
   "cell_type": "code",
   "execution_count": 81,
   "metadata": {},
   "outputs": [
    {
     "data": {
      "image/png": "[encoded data removed]",
      "text/plain": [
       "<Figure size 432x288 with 1 Axes>"
      ]
     },
     "metadata": {
      "needs_background": "light"
     },
     "output_type": "display_data"
    },
    {
     "data": {
      "application/javascript": [
       "\n",
       "            setTimeout(function() {\n",
       "                var nbb_cell_id = 81;\n",
       "                var nbb_unformatted_code = \"# Most people earn around 65k to 70k per year\\nplt.hist(profile.income, bins=50);\";\n",
       "                var nbb_formatted_code = \"# Most people earn around 65k to 70k per year\\nplt.hist(profile.income, bins=50)\";\n",
       "                var nbb_cells = Jupyter.notebook.get_cells();\n",
       "                for (var i = 0; i < nbb_cells.length; ++i) {\n",
       "                    if (nbb_cells[i].input_prompt_number == nbb_cell_id) {\n",
       "                        if (nbb_cells[i].get_text() == nbb_unformatted_code) {\n",
       "                             nbb_cells[i].set_text(nbb_formatted_code);\n",
       "                        }\n",
       "                        break;\n",
       "                    }\n",
       "                }\n",
       "            }, 500);\n",
       "            "
      ],
      "text/plain": [
       "<IPython.core.display.Javascript object>"
      ]
     },
     "metadata": {},
     "output_type": "display_data"
    }
   ],
   "source": [
    "# Most people earn around 65k to 70k per year\n",
    "plt.hist(profile.income, bins=50)"
   ]
  },
  {
   "cell_type": "code",
   "execution_count": 82,
   "metadata": {},
   "outputs": [
    {
     "data": {
      "text/plain": [
       "65404.9915682968"
      ]
     },
     "execution_count": 82,
     "metadata": {},
     "output_type": "execute_result"
    },
    {
     "data": {
      "application/javascript": [
       "\n",
       "            setTimeout(function() {\n",
       "                var nbb_cell_id = 82;\n",
       "                var nbb_unformatted_code = \"# Mean income is around $65000 per annum\\nprofile.income.mean()\";\n",
       "                var nbb_formatted_code = \"# Mean income is around $65000 per annum\\nprofile.income.mean()\";\n",
       "                var nbb_cells = Jupyter.notebook.get_cells();\n",
       "                for (var i = 0; i < nbb_cells.length; ++i) {\n",
       "                    if (nbb_cells[i].input_prompt_number == nbb_cell_id) {\n",
       "                        if (nbb_cells[i].get_text() == nbb_unformatted_code) {\n",
       "                             nbb_cells[i].set_text(nbb_formatted_code);\n",
       "                        }\n",
       "                        break;\n",
       "                    }\n",
       "                }\n",
       "            }, 500);\n",
       "            "
      ],
      "text/plain": [
       "<IPython.core.display.Javascript object>"
      ]
     },
     "metadata": {},
     "output_type": "display_data"
    }
   ],
   "source": [
    "# Mean income is around $65000 per annum\n",
    "profile.income.mean()"
   ]
  },
  {
   "cell_type": "code",
   "execution_count": 83,
   "metadata": {},
   "outputs": [
    {
     "data": {
      "image/png": "[encoded data removed]",
      "text/plain": [
       "<Figure size 432x288 with 1 Axes>"
      ]
     },
     "metadata": {
      "needs_background": "light"
     },
     "output_type": "display_data"
    },
    {
     "data": {
      "application/javascript": [
       "\n",
       "            setTimeout(function() {\n",
       "                var nbb_cell_id = 83;\n",
       "                var nbb_unformatted_code = \"# Majority of customers have been around 4 years\\nplt.hist(profile.membership_years, bins=100);\";\n",
       "                var nbb_formatted_code = \"# Majority of customers have been around 4 years\\nplt.hist(profile.membership_years, bins=100)\";\n",
       "                var nbb_cells = Jupyter.notebook.get_cells();\n",
       "                for (var i = 0; i < nbb_cells.length; ++i) {\n",
       "                    if (nbb_cells[i].input_prompt_number == nbb_cell_id) {\n",
       "                        if (nbb_cells[i].get_text() == nbb_unformatted_code) {\n",
       "                             nbb_cells[i].set_text(nbb_formatted_code);\n",
       "                        }\n",
       "                        break;\n",
       "                    }\n",
       "                }\n",
       "            }, 500);\n",
       "            "
      ],
      "text/plain": [
       "<IPython.core.display.Javascript object>"
      ]
     },
     "metadata": {},
     "output_type": "display_data"
    }
   ],
   "source": [
    "# Majority of customers have been around 4 years\n",
    "plt.hist(profile.membership_years, bins=100)"
   ]
  },
  {
   "cell_type": "code",
   "execution_count": 84,
   "metadata": {},
   "outputs": [
    {
     "data": {
      "text/plain": [
       "4.730079419714015"
      ]
     },
     "execution_count": 84,
     "metadata": {},
     "output_type": "execute_result"
    },
    {
     "data": {
      "application/javascript": [
       "\n",
       "            setTimeout(function() {\n",
       "                var nbb_cell_id = 84;\n",
       "                var nbb_unformatted_code = \"profile.membership_years.mean()\";\n",
       "                var nbb_formatted_code = \"profile.membership_years.mean()\";\n",
       "                var nbb_cells = Jupyter.notebook.get_cells();\n",
       "                for (var i = 0; i < nbb_cells.length; ++i) {\n",
       "                    if (nbb_cells[i].input_prompt_number == nbb_cell_id) {\n",
       "                        if (nbb_cells[i].get_text() == nbb_unformatted_code) {\n",
       "                             nbb_cells[i].set_text(nbb_formatted_code);\n",
       "                        }\n",
       "                        break;\n",
       "                    }\n",
       "                }\n",
       "            }, 500);\n",
       "            "
      ],
      "text/plain": [
       "<IPython.core.display.Javascript object>"
      ]
     },
     "metadata": {},
     "output_type": "display_data"
    }
   ],
   "source": [
    "profile.membership_years.mean()"
   ]
  },
  {
   "cell_type": "markdown",
   "metadata": {},
   "source": [
    "#### master data"
   ]
  },
  {
   "cell_type": "code",
   "execution_count": 85,
   "metadata": {},
   "outputs": [
    {
     "data": {
      "text/plain": [
       "<AxesSubplot:xlabel='gender'>"
      ]
     },
     "execution_count": 85,
     "metadata": {},
     "output_type": "execute_result"
    },
    {
     "data": {
      "image/png": "[encoded data removed]",
      "text/plain": [
       "<Figure size 432x288 with 1 Axes>"
      ]
     },
     "metadata": {
      "needs_background": "light"
     },
     "output_type": "display_data"
    },
    {
     "data": {
      "application/javascript": [
       "\n",
       "            setTimeout(function() {\n",
       "                var nbb_cell_id = 85;\n",
       "                var nbb_unformatted_code = \"pd.crosstab(master_df.gender,master_df.offer_worked).plot(kind='bar')\";\n",
       "                var nbb_formatted_code = \"pd.crosstab(master_df.gender, master_df.offer_worked).plot(kind=\\\"bar\\\")\";\n",
       "                var nbb_cells = Jupyter.notebook.get_cells();\n",
       "                for (var i = 0; i < nbb_cells.length; ++i) {\n",
       "                    if (nbb_cells[i].input_prompt_number == nbb_cell_id) {\n",
       "                        if (nbb_cells[i].get_text() == nbb_unformatted_code) {\n",
       "                             nbb_cells[i].set_text(nbb_formatted_code);\n",
       "                        }\n",
       "                        break;\n",
       "                    }\n",
       "                }\n",
       "            }, 500);\n",
       "            "
      ],
      "text/plain": [
       "<IPython.core.display.Javascript object>"
      ]
     },
     "metadata": {},
     "output_type": "display_data"
    }
   ],
   "source": [
    "pd.crosstab(master_df.gender, master_df.offer_worked).plot(kind=\"bar\")"
   ]
  },
  {
   "cell_type": "markdown",
   "metadata": {},
   "source": [
    "Offers seems to be a good predictor of whether ofer worked. Offer is less likely to work on men compared to female and other"
   ]
  },
  {
   "cell_type": "code",
   "execution_count": 86,
   "metadata": {},
   "outputs": [
    {
     "data": {
      "text/plain": [
       "<AxesSubplot:xlabel='offer_type'>"
      ]
     },
     "execution_count": 86,
     "metadata": {},
     "output_type": "execute_result"
    },
    {
     "data": {
      "image/png": "[encoded data removed]",
      "text/plain": [
       "<Figure size 432x288 with 1 Axes>"
      ]
     },
     "metadata": {
      "needs_background": "light"
     },
     "output_type": "display_data"
    },
    {
     "data": {
      "application/javascript": [
       "\n",
       "            setTimeout(function() {\n",
       "                var nbb_cell_id = 86;\n",
       "                var nbb_unformatted_code = \"pd.crosstab(master_df.offer_type,master_df.offer_worked).plot(kind='bar')\";\n",
       "                var nbb_formatted_code = \"pd.crosstab(master_df.offer_type, master_df.offer_worked).plot(kind=\\\"bar\\\")\";\n",
       "                var nbb_cells = Jupyter.notebook.get_cells();\n",
       "                for (var i = 0; i < nbb_cells.length; ++i) {\n",
       "                    if (nbb_cells[i].input_prompt_number == nbb_cell_id) {\n",
       "                        if (nbb_cells[i].get_text() == nbb_unformatted_code) {\n",
       "                             nbb_cells[i].set_text(nbb_formatted_code);\n",
       "                        }\n",
       "                        break;\n",
       "                    }\n",
       "                }\n",
       "            }, 500);\n",
       "            "
      ],
      "text/plain": [
       "<IPython.core.display.Javascript object>"
      ]
     },
     "metadata": {},
     "output_type": "display_data"
    }
   ],
   "source": [
    "pd.crosstab(master_df.offer_type, master_df.offer_worked).plot(kind=\"bar\")"
   ]
  },
  {
   "cell_type": "markdown",
   "metadata": {},
   "source": [
    "Offer type seems to be good predictor of whether it will work or not. People respond quite well to informational offers.\n",
    "People respond better to discounts than bogo."
   ]
  },
  {
   "cell_type": "code",
   "execution_count": 204,
   "metadata": {},
   "outputs": [
    {
     "data": {
      "text/html": [
       "<div>\n",
       "<style scoped>\n",
       "    .dataframe tbody tr th:only-of-type {\n",
       "        vertical-align: middle;\n",
       "    }\n",
       "\n",
       "    .dataframe tbody tr th {\n",
       "        vertical-align: top;\n",
       "    }\n",
       "\n",
       "    .dataframe thead th {\n",
       "        text-align: right;\n",
       "    }\n",
       "</style>\n",
       "<table border=\"1\" class=\"dataframe\">\n",
       "  <thead>\n",
       "    <tr style=\"text-align: right;\">\n",
       "      <th></th>\n",
       "      <th>offer_received_day</th>\n",
       "      <th>offer_end_day</th>\n",
       "      <th>offer_viewed</th>\n",
       "      <th>offer_completed</th>\n",
       "      <th>offer_completed_day</th>\n",
       "      <th>transaction</th>\n",
       "      <th>reward</th>\n",
       "      <th>difficulty</th>\n",
       "      <th>duration</th>\n",
       "      <th>web</th>\n",
       "      <th>email</th>\n",
       "      <th>mobile</th>\n",
       "      <th>social</th>\n",
       "      <th>age</th>\n",
       "      <th>income</th>\n",
       "      <th>membership_years</th>\n",
       "      <th>bogo</th>\n",
       "      <th>discount</th>\n",
       "      <th>informational</th>\n",
       "      <th>gender_F</th>\n",
       "      <th>gender_M</th>\n",
       "      <th>gender_O</th>\n",
       "    </tr>\n",
       "    <tr>\n",
       "      <th>offer_worked</th>\n",
       "      <th></th>\n",
       "      <th></th>\n",
       "      <th></th>\n",
       "      <th></th>\n",
       "      <th></th>\n",
       "      <th></th>\n",
       "      <th></th>\n",
       "      <th></th>\n",
       "      <th></th>\n",
       "      <th></th>\n",
       "      <th></th>\n",
       "      <th></th>\n",
       "      <th></th>\n",
       "      <th></th>\n",
       "      <th></th>\n",
       "      <th></th>\n",
       "      <th></th>\n",
       "      <th></th>\n",
       "      <th></th>\n",
       "      <th></th>\n",
       "      <th></th>\n",
       "      <th></th>\n",
       "    </tr>\n",
       "  </thead>\n",
       "  <tbody>\n",
       "    <tr>\n",
       "      <th>0.0</th>\n",
       "      <td>13.920168</td>\n",
       "      <td>20.519068</td>\n",
       "      <td>0.423924</td>\n",
       "      <td>0.294883</td>\n",
       "      <td>16.838896</td>\n",
       "      <td>9.300838</td>\n",
       "      <td>4.417223</td>\n",
       "      <td>8.289334</td>\n",
       "      <td>6.598901</td>\n",
       "      <td>0.815914</td>\n",
       "      <td>1.0</td>\n",
       "      <td>0.857767</td>\n",
       "      <td>0.500955</td>\n",
       "      <td>53.682607</td>\n",
       "      <td>63724.512498</td>\n",
       "      <td>4.578158</td>\n",
       "      <td>0.417328</td>\n",
       "      <td>0.393744</td>\n",
       "      <td>0.188928</td>\n",
       "      <td>0.383170</td>\n",
       "      <td>0.605392</td>\n",
       "      <td>0.011438</td>\n",
       "    </tr>\n",
       "    <tr>\n",
       "      <th>1.0</th>\n",
       "      <td>13.775905</td>\n",
       "      <td>20.160164</td>\n",
       "      <td>1.000000</td>\n",
       "      <td>0.785058</td>\n",
       "      <td>16.170714</td>\n",
       "      <td>23.147741</td>\n",
       "      <td>3.903944</td>\n",
       "      <td>6.937588</td>\n",
       "      <td>6.384259</td>\n",
       "      <td>0.777601</td>\n",
       "      <td>1.0</td>\n",
       "      <td>0.954340</td>\n",
       "      <td>0.730245</td>\n",
       "      <td>55.296367</td>\n",
       "      <td>67595.525869</td>\n",
       "      <td>4.931482</td>\n",
       "      <td>0.374364</td>\n",
       "      <td>0.410694</td>\n",
       "      <td>0.214942</td>\n",
       "      <td>0.452962</td>\n",
       "      <td>0.530110</td>\n",
       "      <td>0.016928</td>\n",
       "    </tr>\n",
       "  </tbody>\n",
       "</table>\n",
       "</div>"
      ],
      "text/plain": [
       "              offer_received_day  offer_end_day  offer_viewed  \\\n",
       "offer_worked                                                    \n",
       "0.0                    13.920168      20.519068      0.423924   \n",
       "1.0                    13.775905      20.160164      1.000000   \n",
       "\n",
       "              offer_completed  offer_completed_day  transaction    reward  \\\n",
       "offer_worked                                                                \n",
       "0.0                  0.294883            16.838896     9.300838  4.417223   \n",
       "1.0                  0.785058            16.170714    23.147741  3.903944   \n",
       "\n",
       "              difficulty  duration       web  email    mobile    social  \\\n",
       "offer_worked                                                              \n",
       "0.0             8.289334  6.598901  0.815914    1.0  0.857767  0.500955   \n",
       "1.0             6.937588  6.384259  0.777601    1.0  0.954340  0.730245   \n",
       "\n",
       "                    age        income  membership_years      bogo  discount  \\\n",
       "offer_worked                                                                  \n",
       "0.0           53.682607  63724.512498          4.578158  0.417328  0.393744   \n",
       "1.0           55.296367  67595.525869          4.931482  0.374364  0.410694   \n",
       "\n",
       "              informational  gender_F  gender_M  gender_O  \n",
       "offer_worked                                               \n",
       "0.0                0.188928  0.383170  0.605392  0.011438  \n",
       "1.0                0.214942  0.452962  0.530110  0.016928  "
      ]
     },
     "execution_count": 204,
     "metadata": {},
     "output_type": "execute_result"
    },
    {
     "data": {
      "application/javascript": [
       "\n",
       "            setTimeout(function() {\n",
       "                var nbb_cell_id = 204;\n",
       "                var nbb_unformatted_code = \"master_df.groupby([\\\"offer_worked\\\"]).mean()\";\n",
       "                var nbb_formatted_code = \"master_df.groupby([\\\"offer_worked\\\"]).mean()\";\n",
       "                var nbb_cells = Jupyter.notebook.get_cells();\n",
       "                for (var i = 0; i < nbb_cells.length; ++i) {\n",
       "                    if (nbb_cells[i].input_prompt_number == nbb_cell_id) {\n",
       "                        if (nbb_cells[i].get_text() == nbb_unformatted_code) {\n",
       "                             nbb_cells[i].set_text(nbb_formatted_code);\n",
       "                        }\n",
       "                        break;\n",
       "                    }\n",
       "                }\n",
       "            }, 500);\n",
       "            "
      ],
      "text/plain": [
       "<IPython.core.display.Javascript object>"
      ]
     },
     "metadata": {},
     "output_type": "display_data"
    }
   ],
   "source": [
    "master_df.groupby([\"offer_worked\"]).mean()"
   ]
  },
  {
   "cell_type": "markdown",
   "metadata": {},
   "source": [
    "- Those who viewed the offer are more likely to completely the offer.\n",
    "- Offers are more likely to work for those that have been members for longer. \n",
    "- Offer has a higher chance of working for those that are older and have a higher income. \n",
    "- Offer will work more if on social media and mobile. "
   ]
  },
  {
   "cell_type": "code",
   "execution_count": 88,
   "metadata": {},
   "outputs": [
    {
     "data": {
      "text/html": [
       "<div>\n",
       "<style scoped>\n",
       "    .dataframe tbody tr th:only-of-type {\n",
       "        vertical-align: middle;\n",
       "    }\n",
       "\n",
       "    .dataframe tbody tr th {\n",
       "        vertical-align: top;\n",
       "    }\n",
       "\n",
       "    .dataframe thead th {\n",
       "        text-align: right;\n",
       "    }\n",
       "</style>\n",
       "<table border=\"1\" class=\"dataframe\">\n",
       "  <thead>\n",
       "    <tr style=\"text-align: right;\">\n",
       "      <th></th>\n",
       "      <th>offer_received_day</th>\n",
       "      <th>offer_end_day</th>\n",
       "      <th>offer_viewed</th>\n",
       "      <th>offer_completed</th>\n",
       "      <th>offer_completed_day</th>\n",
       "      <th>transaction</th>\n",
       "      <th>offer_worked</th>\n",
       "      <th>reward</th>\n",
       "      <th>difficulty</th>\n",
       "      <th>duration</th>\n",
       "      <th>web</th>\n",
       "      <th>email</th>\n",
       "      <th>mobile</th>\n",
       "      <th>social</th>\n",
       "      <th>age</th>\n",
       "      <th>income</th>\n",
       "      <th>membership_years</th>\n",
       "      <th>bogo</th>\n",
       "      <th>discount</th>\n",
       "      <th>informational</th>\n",
       "      <th>gender_F</th>\n",
       "      <th>gender_M</th>\n",
       "      <th>gender_O</th>\n",
       "    </tr>\n",
       "  </thead>\n",
       "  <tbody>\n",
       "    <tr>\n",
       "      <th>offer_received_day</th>\n",
       "      <td>1.000000</td>\n",
       "      <td>0.965555</td>\n",
       "      <td>-0.062515</td>\n",
       "      <td>0.051889</td>\n",
       "      <td>0.930366</td>\n",
       "      <td>0.025822</td>\n",
       "      <td>-0.008710</td>\n",
       "      <td>-0.000885</td>\n",
       "      <td>-0.003959</td>\n",
       "      <td>-0.003874</td>\n",
       "      <td>0.002758</td>\n",
       "      <td>NaN</td>\n",
       "      <td>0.003473</td>\n",
       "      <td>0.000317</td>\n",
       "      <td>0.001255</td>\n",
       "      <td>-0.000615</td>\n",
       "      <td>-0.000171</td>\n",
       "      <td>0.000624</td>\n",
       "      <td>-0.001149</td>\n",
       "      <td>0.000644</td>\n",
       "      <td>0.000217</td>\n",
       "      <td>0.000544</td>\n",
       "      <td>-0.003224</td>\n",
       "    </tr>\n",
       "    <tr>\n",
       "      <th>offer_end_day</th>\n",
       "      <td>0.965555</td>\n",
       "      <td>1.000000</td>\n",
       "      <td>-0.097613</td>\n",
       "      <td>0.146397</td>\n",
       "      <td>0.923467</td>\n",
       "      <td>0.032185</td>\n",
       "      <td>-0.020946</td>\n",
       "      <td>0.041288</td>\n",
       "      <td>0.206743</td>\n",
       "      <td>0.256457</td>\n",
       "      <td>0.091393</td>\n",
       "      <td>NaN</td>\n",
       "      <td>-0.134925</td>\n",
       "      <td>-0.048048</td>\n",
       "      <td>0.000393</td>\n",
       "      <td>-0.001221</td>\n",
       "      <td>0.000281</td>\n",
       "      <td>-0.047496</td>\n",
       "      <td>0.191796</td>\n",
       "      <td>-0.176848</td>\n",
       "      <td>-0.000900</td>\n",
       "      <td>0.001601</td>\n",
       "      <td>-0.002994</td>\n",
       "    </tr>\n",
       "    <tr>\n",
       "      <th>offer_viewed</th>\n",
       "      <td>-0.062515</td>\n",
       "      <td>-0.097613</td>\n",
       "      <td>1.000000</td>\n",
       "      <td>-0.011859</td>\n",
       "      <td>-0.039488</td>\n",
       "      <td>0.036126</td>\n",
       "      <td>0.605287</td>\n",
       "      <td>0.080143</td>\n",
       "      <td>-0.154093</td>\n",
       "      <td>-0.142921</td>\n",
       "      <td>-0.144685</td>\n",
       "      <td>NaN</td>\n",
       "      <td>0.268461</td>\n",
       "      <td>0.437937</td>\n",
       "      <td>0.005787</td>\n",
       "      <td>-0.007214</td>\n",
       "      <td>-0.003275</td>\n",
       "      <td>0.103864</td>\n",
       "      <td>-0.105329</td>\n",
       "      <td>0.001896</td>\n",
       "      <td>-0.015657</td>\n",
       "      <td>0.010214</td>\n",
       "      <td>0.022800</td>\n",
       "    </tr>\n",
       "    <tr>\n",
       "      <th>offer_completed</th>\n",
       "      <td>0.051889</td>\n",
       "      <td>0.146397</td>\n",
       "      <td>-0.011859</td>\n",
       "      <td>1.000000</td>\n",
       "      <td>NaN</td>\n",
       "      <td>0.194236</td>\n",
       "      <td>0.484715</td>\n",
       "      <td>0.222829</td>\n",
       "      <td>0.292826</td>\n",
       "      <td>0.369879</td>\n",
       "      <td>0.221269</td>\n",
       "      <td>NaN</td>\n",
       "      <td>-0.015539</td>\n",
       "      <td>0.092377</td>\n",
       "      <td>0.081845</td>\n",
       "      <td>0.182317</td>\n",
       "      <td>0.160176</td>\n",
       "      <td>0.147454</td>\n",
       "      <td>0.263570</td>\n",
       "      <td>-0.503458</td>\n",
       "      <td>0.125302</td>\n",
       "      <td>-0.127643</td>\n",
       "      <td>0.012344</td>\n",
       "    </tr>\n",
       "    <tr>\n",
       "      <th>offer_completed_day</th>\n",
       "      <td>0.930366</td>\n",
       "      <td>0.923467</td>\n",
       "      <td>-0.039488</td>\n",
       "      <td>NaN</td>\n",
       "      <td>1.000000</td>\n",
       "      <td>0.017308</td>\n",
       "      <td>-0.039488</td>\n",
       "      <td>-0.019875</td>\n",
       "      <td>0.047690</td>\n",
       "      <td>0.045789</td>\n",
       "      <td>0.009034</td>\n",
       "      <td>NaN</td>\n",
       "      <td>-0.049982</td>\n",
       "      <td>-0.048454</td>\n",
       "      <td>-0.002346</td>\n",
       "      <td>-0.014767</td>\n",
       "      <td>-0.014656</td>\n",
       "      <td>-0.037331</td>\n",
       "      <td>0.037331</td>\n",
       "      <td>NaN</td>\n",
       "      <td>-0.010089</td>\n",
       "      <td>0.013137</td>\n",
       "      <td>-0.012497</td>\n",
       "    </tr>\n",
       "    <tr>\n",
       "      <th>transaction</th>\n",
       "      <td>0.025822</td>\n",
       "      <td>0.032185</td>\n",
       "      <td>0.036126</td>\n",
       "      <td>0.194236</td>\n",
       "      <td>0.017308</td>\n",
       "      <td>1.000000</td>\n",
       "      <td>0.206124</td>\n",
       "      <td>0.005758</td>\n",
       "      <td>0.036548</td>\n",
       "      <td>0.027775</td>\n",
       "      <td>-0.009631</td>\n",
       "      <td>NaN</td>\n",
       "      <td>-0.043320</td>\n",
       "      <td>-0.003133</td>\n",
       "      <td>0.049163</td>\n",
       "      <td>0.134085</td>\n",
       "      <td>0.070362</td>\n",
       "      <td>-0.022941</td>\n",
       "      <td>0.020193</td>\n",
       "      <td>0.003344</td>\n",
       "      <td>0.063482</td>\n",
       "      <td>-0.063430</td>\n",
       "      <td>0.000998</td>\n",
       "    </tr>\n",
       "    <tr>\n",
       "      <th>offer_worked</th>\n",
       "      <td>-0.008710</td>\n",
       "      <td>-0.020946</td>\n",
       "      <td>0.605287</td>\n",
       "      <td>0.484715</td>\n",
       "      <td>-0.039488</td>\n",
       "      <td>0.206124</td>\n",
       "      <td>1.000000</td>\n",
       "      <td>-0.074682</td>\n",
       "      <td>-0.120474</td>\n",
       "      <td>-0.048141</td>\n",
       "      <td>-0.047322</td>\n",
       "      <td>NaN</td>\n",
       "      <td>0.158357</td>\n",
       "      <td>0.231263</td>\n",
       "      <td>0.045867</td>\n",
       "      <td>0.088512</td>\n",
       "      <td>0.152098</td>\n",
       "      <td>-0.043377</td>\n",
       "      <td>0.017099</td>\n",
       "      <td>0.032155</td>\n",
       "      <td>0.070085</td>\n",
       "      <td>-0.075256</td>\n",
       "      <td>0.023288</td>\n",
       "    </tr>\n",
       "    <tr>\n",
       "      <th>reward</th>\n",
       "      <td>-0.000885</td>\n",
       "      <td>0.041288</td>\n",
       "      <td>0.080143</td>\n",
       "      <td>0.222829</td>\n",
       "      <td>-0.019875</td>\n",
       "      <td>0.005758</td>\n",
       "      <td>-0.074682</td>\n",
       "      <td>1.000000</td>\n",
       "      <td>0.465176</td>\n",
       "      <td>0.161964</td>\n",
       "      <td>-0.120241</td>\n",
       "      <td>NaN</td>\n",
       "      <td>-0.079089</td>\n",
       "      <td>0.286961</td>\n",
       "      <td>-0.004319</td>\n",
       "      <td>0.001971</td>\n",
       "      <td>0.003557</td>\n",
       "      <td>0.791978</td>\n",
       "      <td>-0.287104</td>\n",
       "      <td>-0.617818</td>\n",
       "      <td>0.000306</td>\n",
       "      <td>0.000841</td>\n",
       "      <td>-0.004865</td>\n",
       "    </tr>\n",
       "    <tr>\n",
       "      <th>difficulty</th>\n",
       "      <td>-0.003959</td>\n",
       "      <td>0.206743</td>\n",
       "      <td>-0.154093</td>\n",
       "      <td>0.292826</td>\n",
       "      <td>0.047690</td>\n",
       "      <td>0.036548</td>\n",
       "      <td>-0.120474</td>\n",
       "      <td>0.465176</td>\n",
       "      <td>1.000000</td>\n",
       "      <td>0.809257</td>\n",
       "      <td>0.243572</td>\n",
       "      <td>NaN</td>\n",
       "      <td>-0.742892</td>\n",
       "      <td>-0.156460</td>\n",
       "      <td>-0.004088</td>\n",
       "      <td>-0.000858</td>\n",
       "      <td>0.001820</td>\n",
       "      <td>-0.031252</td>\n",
       "      <td>0.598690</td>\n",
       "      <td>-0.695277</td>\n",
       "      <td>-0.001124</td>\n",
       "      <td>0.001597</td>\n",
       "      <td>-0.002028</td>\n",
       "    </tr>\n",
       "    <tr>\n",
       "      <th>duration</th>\n",
       "      <td>-0.003874</td>\n",
       "      <td>0.256457</td>\n",
       "      <td>-0.142921</td>\n",
       "      <td>0.369879</td>\n",
       "      <td>0.045789</td>\n",
       "      <td>0.027775</td>\n",
       "      <td>-0.048141</td>\n",
       "      <td>0.161964</td>\n",
       "      <td>0.809257</td>\n",
       "      <td>1.000000</td>\n",
       "      <td>0.340997</td>\n",
       "      <td>NaN</td>\n",
       "      <td>-0.531442</td>\n",
       "      <td>-0.185837</td>\n",
       "      <td>-0.003150</td>\n",
       "      <td>-0.002406</td>\n",
       "      <td>0.001714</td>\n",
       "      <td>-0.184856</td>\n",
       "      <td>0.741376</td>\n",
       "      <td>-0.682049</td>\n",
       "      <td>-0.004266</td>\n",
       "      <td>0.004135</td>\n",
       "      <td>0.000472</td>\n",
       "    </tr>\n",
       "    <tr>\n",
       "      <th>web</th>\n",
       "      <td>0.002758</td>\n",
       "      <td>0.091393</td>\n",
       "      <td>-0.144685</td>\n",
       "      <td>0.221269</td>\n",
       "      <td>0.009034</td>\n",
       "      <td>-0.009631</td>\n",
       "      <td>-0.047322</td>\n",
       "      <td>-0.120241</td>\n",
       "      <td>0.243572</td>\n",
       "      <td>0.340997</td>\n",
       "      <td>1.000000</td>\n",
       "      <td>NaN</td>\n",
       "      <td>-0.167925</td>\n",
       "      <td>-0.410007</td>\n",
       "      <td>-0.000266</td>\n",
       "      <td>-0.004473</td>\n",
       "      <td>-0.001900</td>\n",
       "      <td>-0.104735</td>\n",
       "      <td>0.409558</td>\n",
       "      <td>-0.373582</td>\n",
       "      <td>-0.002834</td>\n",
       "      <td>0.003463</td>\n",
       "      <td>-0.002722</td>\n",
       "    </tr>\n",
       "    <tr>\n",
       "      <th>email</th>\n",
       "      <td>NaN</td>\n",
       "      <td>NaN</td>\n",
       "      <td>NaN</td>\n",
       "      <td>NaN</td>\n",
       "      <td>NaN</td>\n",
       "      <td>NaN</td>\n",
       "      <td>NaN</td>\n",
       "      <td>NaN</td>\n",
       "      <td>NaN</td>\n",
       "      <td>NaN</td>\n",
       "      <td>NaN</td>\n",
       "      <td>NaN</td>\n",
       "      <td>NaN</td>\n",
       "      <td>NaN</td>\n",
       "      <td>NaN</td>\n",
       "      <td>NaN</td>\n",
       "      <td>NaN</td>\n",
       "      <td>NaN</td>\n",
       "      <td>NaN</td>\n",
       "      <td>NaN</td>\n",
       "      <td>NaN</td>\n",
       "      <td>NaN</td>\n",
       "      <td>NaN</td>\n",
       "    </tr>\n",
       "    <tr>\n",
       "      <th>mobile</th>\n",
       "      <td>0.003473</td>\n",
       "      <td>-0.134925</td>\n",
       "      <td>0.268461</td>\n",
       "      <td>-0.015539</td>\n",
       "      <td>-0.049982</td>\n",
       "      <td>-0.043320</td>\n",
       "      <td>0.158357</td>\n",
       "      <td>-0.079089</td>\n",
       "      <td>-0.742892</td>\n",
       "      <td>-0.531442</td>\n",
       "      <td>-0.167925</td>\n",
       "      <td>NaN</td>\n",
       "      <td>1.000000</td>\n",
       "      <td>0.409566</td>\n",
       "      <td>-0.000239</td>\n",
       "      <td>0.002979</td>\n",
       "      <td>-0.001643</td>\n",
       "      <td>0.273344</td>\n",
       "      <td>-0.410015</td>\n",
       "      <td>0.167720</td>\n",
       "      <td>-0.002438</td>\n",
       "      <td>0.003067</td>\n",
       "      <td>-0.002719</td>\n",
       "    </tr>\n",
       "    <tr>\n",
       "      <th>social</th>\n",
       "      <td>0.000317</td>\n",
       "      <td>-0.048048</td>\n",
       "      <td>0.437937</td>\n",
       "      <td>0.092377</td>\n",
       "      <td>-0.048454</td>\n",
       "      <td>-0.003133</td>\n",
       "      <td>0.231263</td>\n",
       "      <td>0.286961</td>\n",
       "      <td>-0.156460</td>\n",
       "      <td>-0.185837</td>\n",
       "      <td>-0.410007</td>\n",
       "      <td>NaN</td>\n",
       "      <td>0.409566</td>\n",
       "      <td>1.000000</td>\n",
       "      <td>-0.000272</td>\n",
       "      <td>0.004771</td>\n",
       "      <td>-0.003820</td>\n",
       "      <td>0.248637</td>\n",
       "      <td>-0.165987</td>\n",
       "      <td>-0.101023</td>\n",
       "      <td>-0.001364</td>\n",
       "      <td>0.002365</td>\n",
       "      <td>-0.004275</td>\n",
       "    </tr>\n",
       "    <tr>\n",
       "      <th>age</th>\n",
       "      <td>0.001255</td>\n",
       "      <td>0.000393</td>\n",
       "      <td>0.005787</td>\n",
       "      <td>0.081845</td>\n",
       "      <td>-0.002346</td>\n",
       "      <td>0.049163</td>\n",
       "      <td>0.045867</td>\n",
       "      <td>-0.004319</td>\n",
       "      <td>-0.004088</td>\n",
       "      <td>-0.003150</td>\n",
       "      <td>-0.000266</td>\n",
       "      <td>NaN</td>\n",
       "      <td>-0.000239</td>\n",
       "      <td>-0.000272</td>\n",
       "      <td>1.000000</td>\n",
       "      <td>0.305156</td>\n",
       "      <td>0.008904</td>\n",
       "      <td>-0.001719</td>\n",
       "      <td>-0.002753</td>\n",
       "      <td>0.005478</td>\n",
       "      <td>0.149466</td>\n",
       "      <td>-0.149364</td>\n",
       "      <td>0.002438</td>\n",
       "    </tr>\n",
       "    <tr>\n",
       "      <th>income</th>\n",
       "      <td>-0.000615</td>\n",
       "      <td>-0.001221</td>\n",
       "      <td>-0.007214</td>\n",
       "      <td>0.182317</td>\n",
       "      <td>-0.014767</td>\n",
       "      <td>0.134085</td>\n",
       "      <td>0.088512</td>\n",
       "      <td>0.001971</td>\n",
       "      <td>-0.000858</td>\n",
       "      <td>-0.002406</td>\n",
       "      <td>-0.004473</td>\n",
       "      <td>NaN</td>\n",
       "      <td>0.002979</td>\n",
       "      <td>0.004771</td>\n",
       "      <td>0.305156</td>\n",
       "      <td>1.000000</td>\n",
       "      <td>0.022914</td>\n",
       "      <td>0.001996</td>\n",
       "      <td>-0.001996</td>\n",
       "      <td>0.000003</td>\n",
       "      <td>0.227527</td>\n",
       "      <td>-0.223651</td>\n",
       "      <td>-0.012073</td>\n",
       "    </tr>\n",
       "    <tr>\n",
       "      <th>membership_years</th>\n",
       "      <td>-0.000171</td>\n",
       "      <td>0.000281</td>\n",
       "      <td>-0.003275</td>\n",
       "      <td>0.160176</td>\n",
       "      <td>-0.014656</td>\n",
       "      <td>0.070362</td>\n",
       "      <td>0.152098</td>\n",
       "      <td>0.003557</td>\n",
       "      <td>0.001820</td>\n",
       "      <td>0.001714</td>\n",
       "      <td>-0.001900</td>\n",
       "      <td>NaN</td>\n",
       "      <td>-0.001643</td>\n",
       "      <td>-0.003820</td>\n",
       "      <td>0.008904</td>\n",
       "      <td>0.022914</td>\n",
       "      <td>1.000000</td>\n",
       "      <td>0.003498</td>\n",
       "      <td>-0.003492</td>\n",
       "      <td>-0.000004</td>\n",
       "      <td>-0.017725</td>\n",
       "      <td>0.020840</td>\n",
       "      <td>-0.013557</td>\n",
       "    </tr>\n",
       "    <tr>\n",
       "      <th>bogo</th>\n",
       "      <td>0.000624</td>\n",
       "      <td>-0.047496</td>\n",
       "      <td>0.103864</td>\n",
       "      <td>0.147454</td>\n",
       "      <td>-0.037331</td>\n",
       "      <td>-0.022941</td>\n",
       "      <td>-0.043377</td>\n",
       "      <td>0.791978</td>\n",
       "      <td>-0.031252</td>\n",
       "      <td>-0.184856</td>\n",
       "      <td>-0.104735</td>\n",
       "      <td>NaN</td>\n",
       "      <td>0.273344</td>\n",
       "      <td>0.248637</td>\n",
       "      <td>-0.001719</td>\n",
       "      <td>0.001996</td>\n",
       "      <td>0.003498</td>\n",
       "      <td>1.000000</td>\n",
       "      <td>-0.666670</td>\n",
       "      <td>-0.407434</td>\n",
       "      <td>0.001171</td>\n",
       "      <td>-0.000450</td>\n",
       "      <td>-0.003037</td>\n",
       "    </tr>\n",
       "    <tr>\n",
       "      <th>discount</th>\n",
       "      <td>-0.001149</td>\n",
       "      <td>0.191796</td>\n",
       "      <td>-0.105329</td>\n",
       "      <td>0.263570</td>\n",
       "      <td>0.037331</td>\n",
       "      <td>0.020193</td>\n",
       "      <td>0.017099</td>\n",
       "      <td>-0.287104</td>\n",
       "      <td>0.598690</td>\n",
       "      <td>0.741376</td>\n",
       "      <td>0.409558</td>\n",
       "      <td>NaN</td>\n",
       "      <td>-0.410015</td>\n",
       "      <td>-0.165987</td>\n",
       "      <td>-0.002753</td>\n",
       "      <td>-0.001996</td>\n",
       "      <td>-0.003492</td>\n",
       "      <td>-0.666670</td>\n",
       "      <td>1.000000</td>\n",
       "      <td>-0.409058</td>\n",
       "      <td>-0.004092</td>\n",
       "      <td>0.004090</td>\n",
       "      <td>-0.000073</td>\n",
       "    </tr>\n",
       "    <tr>\n",
       "      <th>informational</th>\n",
       "      <td>0.000644</td>\n",
       "      <td>-0.176848</td>\n",
       "      <td>0.001896</td>\n",
       "      <td>-0.503458</td>\n",
       "      <td>NaN</td>\n",
       "      <td>0.003344</td>\n",
       "      <td>0.032155</td>\n",
       "      <td>-0.617818</td>\n",
       "      <td>-0.695277</td>\n",
       "      <td>-0.682049</td>\n",
       "      <td>-0.373582</td>\n",
       "      <td>NaN</td>\n",
       "      <td>0.167720</td>\n",
       "      <td>-0.101023</td>\n",
       "      <td>0.005478</td>\n",
       "      <td>0.000003</td>\n",
       "      <td>-0.000004</td>\n",
       "      <td>-0.407434</td>\n",
       "      <td>-0.409058</td>\n",
       "      <td>1.000000</td>\n",
       "      <td>0.003580</td>\n",
       "      <td>-0.004461</td>\n",
       "      <td>0.003807</td>\n",
       "    </tr>\n",
       "    <tr>\n",
       "      <th>gender_F</th>\n",
       "      <td>0.000217</td>\n",
       "      <td>-0.000900</td>\n",
       "      <td>-0.015657</td>\n",
       "      <td>0.125302</td>\n",
       "      <td>-0.010089</td>\n",
       "      <td>0.063482</td>\n",
       "      <td>0.070085</td>\n",
       "      <td>0.000306</td>\n",
       "      <td>-0.001124</td>\n",
       "      <td>-0.004266</td>\n",
       "      <td>-0.002834</td>\n",
       "      <td>NaN</td>\n",
       "      <td>-0.002438</td>\n",
       "      <td>-0.001364</td>\n",
       "      <td>0.149466</td>\n",
       "      <td>0.227527</td>\n",
       "      <td>-0.017725</td>\n",
       "      <td>0.001171</td>\n",
       "      <td>-0.004092</td>\n",
       "      <td>0.003580</td>\n",
       "      <td>1.000000</td>\n",
       "      <td>-0.972117</td>\n",
       "      <td>-0.099102</td>\n",
       "    </tr>\n",
       "    <tr>\n",
       "      <th>gender_M</th>\n",
       "      <td>0.000544</td>\n",
       "      <td>0.001601</td>\n",
       "      <td>0.010214</td>\n",
       "      <td>-0.127643</td>\n",
       "      <td>0.013137</td>\n",
       "      <td>-0.063430</td>\n",
       "      <td>-0.075256</td>\n",
       "      <td>0.000841</td>\n",
       "      <td>0.001597</td>\n",
       "      <td>0.004135</td>\n",
       "      <td>0.003463</td>\n",
       "      <td>NaN</td>\n",
       "      <td>0.003067</td>\n",
       "      <td>0.002365</td>\n",
       "      <td>-0.149364</td>\n",
       "      <td>-0.223651</td>\n",
       "      <td>0.020840</td>\n",
       "      <td>-0.000450</td>\n",
       "      <td>0.004090</td>\n",
       "      <td>-0.004461</td>\n",
       "      <td>-0.972117</td>\n",
       "      <td>1.000000</td>\n",
       "      <td>-0.137002</td>\n",
       "    </tr>\n",
       "    <tr>\n",
       "      <th>gender_O</th>\n",
       "      <td>-0.003224</td>\n",
       "      <td>-0.002994</td>\n",
       "      <td>0.022800</td>\n",
       "      <td>0.012344</td>\n",
       "      <td>-0.012497</td>\n",
       "      <td>0.000998</td>\n",
       "      <td>0.023288</td>\n",
       "      <td>-0.004865</td>\n",
       "      <td>-0.002028</td>\n",
       "      <td>0.000472</td>\n",
       "      <td>-0.002722</td>\n",
       "      <td>NaN</td>\n",
       "      <td>-0.002719</td>\n",
       "      <td>-0.004275</td>\n",
       "      <td>0.002438</td>\n",
       "      <td>-0.012073</td>\n",
       "      <td>-0.013557</td>\n",
       "      <td>-0.003037</td>\n",
       "      <td>-0.000073</td>\n",
       "      <td>0.003807</td>\n",
       "      <td>-0.099102</td>\n",
       "      <td>-0.137002</td>\n",
       "      <td>1.000000</td>\n",
       "    </tr>\n",
       "  </tbody>\n",
       "</table>\n",
       "</div>"
      ],
      "text/plain": [
       "                     offer_received_day  offer_end_day  offer_viewed  \\\n",
       "offer_received_day             1.000000       0.965555     -0.062515   \n",
       "offer_end_day                  0.965555       1.000000     -0.097613   \n",
       "offer_viewed                  -0.062515      -0.097613      1.000000   \n",
       "offer_completed                0.051889       0.146397     -0.011859   \n",
       "offer_completed_day            0.930366       0.923467     -0.039488   \n",
       "transaction                    0.025822       0.032185      0.036126   \n",
       "offer_worked                  -0.008710      -0.020946      0.605287   \n",
       "reward                        -0.000885       0.041288      0.080143   \n",
       "difficulty                    -0.003959       0.206743     -0.154093   \n",
       "duration                      -0.003874       0.256457     -0.142921   \n",
       "web                            0.002758       0.091393     -0.144685   \n",
       "email                               NaN            NaN           NaN   \n",
       "mobile                         0.003473      -0.134925      0.268461   \n",
       "social                         0.000317      -0.048048      0.437937   \n",
       "age                            0.001255       0.000393      0.005787   \n",
       "income                        -0.000615      -0.001221     -0.007214   \n",
       "membership_years              -0.000171       0.000281     -0.003275   \n",
       "bogo                           0.000624      -0.047496      0.103864   \n",
       "discount                      -0.001149       0.191796     -0.105329   \n",
       "informational                  0.000644      -0.176848      0.001896   \n",
       "gender_F                       0.000217      -0.000900     -0.015657   \n",
       "gender_M                       0.000544       0.001601      0.010214   \n",
       "gender_O                      -0.003224      -0.002994      0.022800   \n",
       "\n",
       "                     offer_completed  offer_completed_day  transaction  \\\n",
       "offer_received_day          0.051889             0.930366     0.025822   \n",
       "offer_end_day               0.146397             0.923467     0.032185   \n",
       "offer_viewed               -0.011859            -0.039488     0.036126   \n",
       "offer_completed             1.000000                  NaN     0.194236   \n",
       "offer_completed_day              NaN             1.000000     0.017308   \n",
       "transaction                 0.194236             0.017308     1.000000   \n",
       "offer_worked                0.484715            -0.039488     0.206124   \n",
       "reward                      0.222829            -0.019875     0.005758   \n",
       "difficulty                  0.292826             0.047690     0.036548   \n",
       "duration                    0.369879             0.045789     0.027775   \n",
       "web                         0.221269             0.009034    -0.009631   \n",
       "email                            NaN                  NaN          NaN   \n",
       "mobile                     -0.015539            -0.049982    -0.043320   \n",
       "social                      0.092377            -0.048454    -0.003133   \n",
       "age                         0.081845            -0.002346     0.049163   \n",
       "income                      0.182317            -0.014767     0.134085   \n",
       "membership_years            0.160176            -0.014656     0.070362   \n",
       "bogo                        0.147454            -0.037331    -0.022941   \n",
       "discount                    0.263570             0.037331     0.020193   \n",
       "informational              -0.503458                  NaN     0.003344   \n",
       "gender_F                    0.125302            -0.010089     0.063482   \n",
       "gender_M                   -0.127643             0.013137    -0.063430   \n",
       "gender_O                    0.012344            -0.012497     0.000998   \n",
       "\n",
       "                     offer_worked    reward  difficulty  duration       web  \\\n",
       "offer_received_day      -0.008710 -0.000885   -0.003959 -0.003874  0.002758   \n",
       "offer_end_day           -0.020946  0.041288    0.206743  0.256457  0.091393   \n",
       "offer_viewed             0.605287  0.080143   -0.154093 -0.142921 -0.144685   \n",
       "offer_completed          0.484715  0.222829    0.292826  0.369879  0.221269   \n",
       "offer_completed_day     -0.039488 -0.019875    0.047690  0.045789  0.009034   \n",
       "transaction              0.206124  0.005758    0.036548  0.027775 -0.009631   \n",
       "offer_worked             1.000000 -0.074682   -0.120474 -0.048141 -0.047322   \n",
       "reward                  -0.074682  1.000000    0.465176  0.161964 -0.120241   \n",
       "difficulty              -0.120474  0.465176    1.000000  0.809257  0.243572   \n",
       "duration                -0.048141  0.161964    0.809257  1.000000  0.340997   \n",
       "web                     -0.047322 -0.120241    0.243572  0.340997  1.000000   \n",
       "email                         NaN       NaN         NaN       NaN       NaN   \n",
       "mobile                   0.158357 -0.079089   -0.742892 -0.531442 -0.167925   \n",
       "social                   0.231263  0.286961   -0.156460 -0.185837 -0.410007   \n",
       "age                      0.045867 -0.004319   -0.004088 -0.003150 -0.000266   \n",
       "income                   0.088512  0.001971   -0.000858 -0.002406 -0.004473   \n",
       "membership_years         0.152098  0.003557    0.001820  0.001714 -0.001900   \n",
       "bogo                    -0.043377  0.791978   -0.031252 -0.184856 -0.104735   \n",
       "discount                 0.017099 -0.287104    0.598690  0.741376  0.409558   \n",
       "informational            0.032155 -0.617818   -0.695277 -0.682049 -0.373582   \n",
       "gender_F                 0.070085  0.000306   -0.001124 -0.004266 -0.002834   \n",
       "gender_M                -0.075256  0.000841    0.001597  0.004135  0.003463   \n",
       "gender_O                 0.023288 -0.004865   -0.002028  0.000472 -0.002722   \n",
       "\n",
       "                     email    mobile    social       age    income  \\\n",
       "offer_received_day     NaN  0.003473  0.000317  0.001255 -0.000615   \n",
       "offer_end_day          NaN -0.134925 -0.048048  0.000393 -0.001221   \n",
       "offer_viewed           NaN  0.268461  0.437937  0.005787 -0.007214   \n",
       "offer_completed        NaN -0.015539  0.092377  0.081845  0.182317   \n",
       "offer_completed_day    NaN -0.049982 -0.048454 -0.002346 -0.014767   \n",
       "transaction            NaN -0.043320 -0.003133  0.049163  0.134085   \n",
       "offer_worked           NaN  0.158357  0.231263  0.045867  0.088512   \n",
       "reward                 NaN -0.079089  0.286961 -0.004319  0.001971   \n",
       "difficulty             NaN -0.742892 -0.156460 -0.004088 -0.000858   \n",
       "duration               NaN -0.531442 -0.185837 -0.003150 -0.002406   \n",
       "web                    NaN -0.167925 -0.410007 -0.000266 -0.004473   \n",
       "email                  NaN       NaN       NaN       NaN       NaN   \n",
       "mobile                 NaN  1.000000  0.409566 -0.000239  0.002979   \n",
       "social                 NaN  0.409566  1.000000 -0.000272  0.004771   \n",
       "age                    NaN -0.000239 -0.000272  1.000000  0.305156   \n",
       "income                 NaN  0.002979  0.004771  0.305156  1.000000   \n",
       "membership_years       NaN -0.001643 -0.003820  0.008904  0.022914   \n",
       "bogo                   NaN  0.273344  0.248637 -0.001719  0.001996   \n",
       "discount               NaN -0.410015 -0.165987 -0.002753 -0.001996   \n",
       "informational          NaN  0.167720 -0.101023  0.005478  0.000003   \n",
       "gender_F               NaN -0.002438 -0.001364  0.149466  0.227527   \n",
       "gender_M               NaN  0.003067  0.002365 -0.149364 -0.223651   \n",
       "gender_O               NaN -0.002719 -0.004275  0.002438 -0.012073   \n",
       "\n",
       "                     membership_years      bogo  discount  informational  \\\n",
       "offer_received_day          -0.000171  0.000624 -0.001149       0.000644   \n",
       "offer_end_day                0.000281 -0.047496  0.191796      -0.176848   \n",
       "offer_viewed                -0.003275  0.103864 -0.105329       0.001896   \n",
       "offer_completed              0.160176  0.147454  0.263570      -0.503458   \n",
       "offer_completed_day         -0.014656 -0.037331  0.037331            NaN   \n",
       "transaction                  0.070362 -0.022941  0.020193       0.003344   \n",
       "offer_worked                 0.152098 -0.043377  0.017099       0.032155   \n",
       "reward                       0.003557  0.791978 -0.287104      -0.617818   \n",
       "difficulty                   0.001820 -0.031252  0.598690      -0.695277   \n",
       "duration                     0.001714 -0.184856  0.741376      -0.682049   \n",
       "web                         -0.001900 -0.104735  0.409558      -0.373582   \n",
       "email                             NaN       NaN       NaN            NaN   \n",
       "mobile                      -0.001643  0.273344 -0.410015       0.167720   \n",
       "social                      -0.003820  0.248637 -0.165987      -0.101023   \n",
       "age                          0.008904 -0.001719 -0.002753       0.005478   \n",
       "income                       0.022914  0.001996 -0.001996       0.000003   \n",
       "membership_years             1.000000  0.003498 -0.003492      -0.000004   \n",
       "bogo                         0.003498  1.000000 -0.666670      -0.407434   \n",
       "discount                    -0.003492 -0.666670  1.000000      -0.409058   \n",
       "informational               -0.000004 -0.407434 -0.409058       1.000000   \n",
       "gender_F                    -0.017725  0.001171 -0.004092       0.003580   \n",
       "gender_M                     0.020840 -0.000450  0.004090      -0.004461   \n",
       "gender_O                    -0.013557 -0.003037 -0.000073       0.003807   \n",
       "\n",
       "                     gender_F  gender_M  gender_O  \n",
       "offer_received_day   0.000217  0.000544 -0.003224  \n",
       "offer_end_day       -0.000900  0.001601 -0.002994  \n",
       "offer_viewed        -0.015657  0.010214  0.022800  \n",
       "offer_completed      0.125302 -0.127643  0.012344  \n",
       "offer_completed_day -0.010089  0.013137 -0.012497  \n",
       "transaction          0.063482 -0.063430  0.000998  \n",
       "offer_worked         0.070085 -0.075256  0.023288  \n",
       "reward               0.000306  0.000841 -0.004865  \n",
       "difficulty          -0.001124  0.001597 -0.002028  \n",
       "duration            -0.004266  0.004135  0.000472  \n",
       "web                 -0.002834  0.003463 -0.002722  \n",
       "email                     NaN       NaN       NaN  \n",
       "mobile              -0.002438  0.003067 -0.002719  \n",
       "social              -0.001364  0.002365 -0.004275  \n",
       "age                  0.149466 -0.149364  0.002438  \n",
       "income               0.227527 -0.223651 -0.012073  \n",
       "membership_years    -0.017725  0.020840 -0.013557  \n",
       "bogo                 0.001171 -0.000450 -0.003037  \n",
       "discount            -0.004092  0.004090 -0.000073  \n",
       "informational        0.003580 -0.004461  0.003807  \n",
       "gender_F             1.000000 -0.972117 -0.099102  \n",
       "gender_M            -0.972117  1.000000 -0.137002  \n",
       "gender_O            -0.099102 -0.137002  1.000000  "
      ]
     },
     "execution_count": 88,
     "metadata": {},
     "output_type": "execute_result"
    },
    {
     "data": {
      "application/javascript": [
       "\n",
       "            setTimeout(function() {\n",
       "                var nbb_cell_id = 88;\n",
       "                var nbb_unformatted_code = \"master_df.corr()\";\n",
       "                var nbb_formatted_code = \"master_df.corr()\";\n",
       "                var nbb_cells = Jupyter.notebook.get_cells();\n",
       "                for (var i = 0; i < nbb_cells.length; ++i) {\n",
       "                    if (nbb_cells[i].input_prompt_number == nbb_cell_id) {\n",
       "                        if (nbb_cells[i].get_text() == nbb_unformatted_code) {\n",
       "                             nbb_cells[i].set_text(nbb_formatted_code);\n",
       "                        }\n",
       "                        break;\n",
       "                    }\n",
       "                }\n",
       "            }, 500);\n",
       "            "
      ],
      "text/plain": [
       "<IPython.core.display.Javascript object>"
      ]
     },
     "metadata": {},
     "output_type": "display_data"
    }
   ],
   "source": [
    "master_df.corr()"
   ]
  },
  {
   "cell_type": "markdown",
   "metadata": {},
   "source": [
    "To come up with features to predict whether an offer will work, based on above, we remove the following variables that are highly correlated to each other from the list of features:\n",
    "- offer_received_day\n",
    "- offer_end_day\n",
    "- offer_completed_day\n",
    "- transaction - this is removed because a large transaction amount likely means that the offer worked because customer is induced to spend more. We want to predict whether the offer will work based on the nature of the offer and demographic data, so transaction amount is removed from feature list. "
   ]
  },
  {
   "cell_type": "code",
   "execution_count": 89,
   "metadata": {},
   "outputs": [
    {
     "data": {
      "application/javascript": [
       "\n",
       "            setTimeout(function() {\n",
       "                var nbb_cell_id = 89;\n",
       "                var nbb_unformatted_code = \"X = master_df[['offer_viewed', 'reward', 'difficulty', 'duration', 'web','email', 'mobile', 'social','age', 'income','membership_years', 'bogo', 'discount', 'informational', 'gender_F','gender_M', 'gender_O']]\";\n",
       "                var nbb_formatted_code = \"X = master_df[\\n    [\\n        \\\"offer_viewed\\\",\\n        \\\"reward\\\",\\n        \\\"difficulty\\\",\\n        \\\"duration\\\",\\n        \\\"web\\\",\\n        \\\"email\\\",\\n        \\\"mobile\\\",\\n        \\\"social\\\",\\n        \\\"age\\\",\\n        \\\"income\\\",\\n        \\\"membership_years\\\",\\n        \\\"bogo\\\",\\n        \\\"discount\\\",\\n        \\\"informational\\\",\\n        \\\"gender_F\\\",\\n        \\\"gender_M\\\",\\n        \\\"gender_O\\\",\\n    ]\\n]\";\n",
       "                var nbb_cells = Jupyter.notebook.get_cells();\n",
       "                for (var i = 0; i < nbb_cells.length; ++i) {\n",
       "                    if (nbb_cells[i].input_prompt_number == nbb_cell_id) {\n",
       "                        if (nbb_cells[i].get_text() == nbb_unformatted_code) {\n",
       "                             nbb_cells[i].set_text(nbb_formatted_code);\n",
       "                        }\n",
       "                        break;\n",
       "                    }\n",
       "                }\n",
       "            }, 500);\n",
       "            "
      ],
      "text/plain": [
       "<IPython.core.display.Javascript object>"
      ]
     },
     "metadata": {},
     "output_type": "display_data"
    }
   ],
   "source": [
    "X = master_df[\n",
    "    [\n",
    "        \"offer_viewed\",\n",
    "        \"reward\",\n",
    "        \"difficulty\",\n",
    "        \"duration\",\n",
    "        \"web\",\n",
    "        \"email\",\n",
    "        \"mobile\",\n",
    "        \"social\",\n",
    "        \"age\",\n",
    "        \"income\",\n",
    "        \"membership_years\",\n",
    "        \"bogo\",\n",
    "        \"discount\",\n",
    "        \"informational\",\n",
    "        \"gender_F\",\n",
    "        \"gender_M\",\n",
    "        \"gender_O\",\n",
    "    ]\n",
    "]"
   ]
  },
  {
   "cell_type": "code",
   "execution_count": 90,
   "metadata": {},
   "outputs": [
    {
     "data": {
      "application/javascript": [
       "\n",
       "            setTimeout(function() {\n",
       "                var nbb_cell_id = 90;\n",
       "                var nbb_unformatted_code = \"y= master_df.offer_worked\";\n",
       "                var nbb_formatted_code = \"y = master_df.offer_worked\";\n",
       "                var nbb_cells = Jupyter.notebook.get_cells();\n",
       "                for (var i = 0; i < nbb_cells.length; ++i) {\n",
       "                    if (nbb_cells[i].input_prompt_number == nbb_cell_id) {\n",
       "                        if (nbb_cells[i].get_text() == nbb_unformatted_code) {\n",
       "                             nbb_cells[i].set_text(nbb_formatted_code);\n",
       "                        }\n",
       "                        break;\n",
       "                    }\n",
       "                }\n",
       "            }, 500);\n",
       "            "
      ],
      "text/plain": [
       "<IPython.core.display.Javascript object>"
      ]
     },
     "metadata": {},
     "output_type": "display_data"
    }
   ],
   "source": [
    "y = master_df.offer_worked"
   ]
  },
  {
   "cell_type": "code",
   "execution_count": 91,
   "metadata": {},
   "outputs": [
    {
     "data": {
      "application/javascript": [
       "\n",
       "            setTimeout(function() {\n",
       "                var nbb_cell_id = 91;\n",
       "                var nbb_unformatted_code = \"X_train, X_test, y_train, y_test = train_test_split(X,y,train_size=0.5, random_state=7)\";\n",
       "                var nbb_formatted_code = \"X_train, X_test, y_train, y_test = train_test_split(\\n    X, y, train_size=0.5, random_state=7\\n)\";\n",
       "                var nbb_cells = Jupyter.notebook.get_cells();\n",
       "                for (var i = 0; i < nbb_cells.length; ++i) {\n",
       "                    if (nbb_cells[i].input_prompt_number == nbb_cell_id) {\n",
       "                        if (nbb_cells[i].get_text() == nbb_unformatted_code) {\n",
       "                             nbb_cells[i].set_text(nbb_formatted_code);\n",
       "                        }\n",
       "                        break;\n",
       "                    }\n",
       "                }\n",
       "            }, 500);\n",
       "            "
      ],
      "text/plain": [
       "<IPython.core.display.Javascript object>"
      ]
     },
     "metadata": {},
     "output_type": "display_data"
    }
   ],
   "source": [
    "X_train, X_test, y_train, y_test = train_test_split(X,y,train_size=0.5, random_state=7)\n"
   ]
  },
  {
   "cell_type": "code",
   "execution_count": 92,
   "metadata": {},
   "outputs": [
    {
     "data": {
      "application/javascript": [
       "\n",
       "            setTimeout(function() {\n",
       "                var nbb_cell_id = 92;\n",
       "                var nbb_unformatted_code = \"y_train_df = pd.DataFrame(y_train)\";\n",
       "                var nbb_formatted_code = \"y_train_df = pd.DataFrame(y_train)\";\n",
       "                var nbb_cells = Jupyter.notebook.get_cells();\n",
       "                for (var i = 0; i < nbb_cells.length; ++i) {\n",
       "                    if (nbb_cells[i].input_prompt_number == nbb_cell_id) {\n",
       "                        if (nbb_cells[i].get_text() == nbb_unformatted_code) {\n",
       "                             nbb_cells[i].set_text(nbb_formatted_code);\n",
       "                        }\n",
       "                        break;\n",
       "                    }\n",
       "                }\n",
       "            }, 500);\n",
       "            "
      ],
      "text/plain": [
       "<IPython.core.display.Javascript object>"
      ]
     },
     "metadata": {},
     "output_type": "display_data"
    }
   ],
   "source": [
    "y_train_df = pd.DataFrame(y_train)"
   ]
  },
  {
   "cell_type": "code",
   "execution_count": 101,
   "metadata": {},
   "outputs": [
    {
     "name": "stdout",
     "output_type": "stream",
     "text": [
      "Number of offer that did not work in training data:  19085\n",
      "Number of offer that worked:  14165\n",
      "Proportion of offer did not work in training data is  0.57\n",
      "Proportion of offer worked in training data is  0.43\n"
     ]
    },
    {
     "data": {
      "application/javascript": [
       "\n",
       "            setTimeout(function() {\n",
       "                var nbb_cell_id = 101;\n",
       "                var nbb_unformatted_code = \"print(\\n    \\\"Number of offer that did not work in training data: \\\",\\n    len(y_train_df[y_train_df[\\\"offer_worked\\\"] == 0]),\\n)\\nprint(\\\"Number of offer that worked: \\\", len(y_train_df[y_train_df[\\\"offer_worked\\\"] == 1]))\\nprint(\\n    \\\"Proportion of offer did not work in training data is \\\",\\n    round((len(y_train_df[y_train_df[\\\"offer_worked\\\"] == 0]) / len(y_train_df)), 2),\\n)\\nprint(\\n    \\\"Proportion of offer worked in training data is \\\",\\n    round(len(y_train_df[y_train_df[\\\"offer_worked\\\"] == 1]) / len(y_train_df), 2) ,\\n)\";\n",
       "                var nbb_formatted_code = \"print(\\n    \\\"Number of offer that did not work in training data: \\\",\\n    len(y_train_df[y_train_df[\\\"offer_worked\\\"] == 0]),\\n)\\nprint(\\\"Number of offer that worked: \\\", len(y_train_df[y_train_df[\\\"offer_worked\\\"] == 1]))\\nprint(\\n    \\\"Proportion of offer did not work in training data is \\\",\\n    round((len(y_train_df[y_train_df[\\\"offer_worked\\\"] == 0]) / len(y_train_df)), 2),\\n)\\nprint(\\n    \\\"Proportion of offer worked in training data is \\\",\\n    round(len(y_train_df[y_train_df[\\\"offer_worked\\\"] == 1]) / len(y_train_df), 2),\\n)\";\n",
       "                var nbb_cells = Jupyter.notebook.get_cells();\n",
       "                for (var i = 0; i < nbb_cells.length; ++i) {\n",
       "                    if (nbb_cells[i].input_prompt_number == nbb_cell_id) {\n",
       "                        if (nbb_cells[i].get_text() == nbb_unformatted_code) {\n",
       "                             nbb_cells[i].set_text(nbb_formatted_code);\n",
       "                        }\n",
       "                        break;\n",
       "                    }\n",
       "                }\n",
       "            }, 500);\n",
       "            "
      ],
      "text/plain": [
       "<IPython.core.display.Javascript object>"
      ]
     },
     "metadata": {},
     "output_type": "display_data"
    }
   ],
   "source": [
    "print(\n",
    "    \"Number of offer that did not work in training data: \",\n",
    "    len(y_train_df[y_train_df[\"offer_worked\"] == 0]),\n",
    ")\n",
    "print(\"Number of offer that worked: \", len(y_train_df[y_train_df[\"offer_worked\"] == 1]))\n",
    "print(\n",
    "    \"Proportion of offer did not work in training data is \",\n",
    "    round((len(y_train_df[y_train_df[\"offer_worked\"] == 0]) / len(y_train_df)), 2),\n",
    ")\n",
    "print(\n",
    "    \"Proportion of offer worked in training data is \",\n",
    "    round(len(y_train_df[y_train_df[\"offer_worked\"] == 1]) / len(y_train_df), 2),\n",
    ")"
   ]
  },
  {
   "cell_type": "markdown",
   "metadata": {},
   "source": [
    "As above shows, the classes of offer worked response variable is balanced so there is no need for Synthetic Minority Over-sampling TEchnique (SMOTE)."
   ]
  },
  {
   "cell_type": "markdown",
   "metadata": {},
   "source": [
    "### Modeling"
   ]
  },
  {
   "cell_type": "markdown",
   "metadata": {},
   "source": [
    "#### Base model"
   ]
  },
  {
   "cell_type": "code",
   "execution_count": 103,
   "metadata": {},
   "outputs": [
    {
     "data": {
      "text/plain": [
       "0.7818411476346576"
      ]
     },
     "execution_count": 103,
     "metadata": {},
     "output_type": "execute_result"
    },
    {
     "data": {
      "application/javascript": [
       "\n",
       "            setTimeout(function() {\n",
       "                var nbb_cell_id = 103;\n",
       "                var nbb_unformatted_code = \"model = LogisticRegression(solver=\\\"liblinear\\\", random_state=0)\\nmodel.fit(X_train, y_train)\\ny_pred = model.predict(X_test)\\n\\n# Means close to 8 out of 10 observations are classified correctly\\nmodel.score(X_test, y_test)\";\n",
       "                var nbb_formatted_code = \"model = LogisticRegression(solver=\\\"liblinear\\\", random_state=0)\\nmodel.fit(X_train, y_train)\\ny_pred = model.predict(X_test)\\n\\n# Means close to 8 out of 10 observations are classified correctly\\nmodel.score(X_test, y_test)\";\n",
       "                var nbb_cells = Jupyter.notebook.get_cells();\n",
       "                for (var i = 0; i < nbb_cells.length; ++i) {\n",
       "                    if (nbb_cells[i].input_prompt_number == nbb_cell_id) {\n",
       "                        if (nbb_cells[i].get_text() == nbb_unformatted_code) {\n",
       "                             nbb_cells[i].set_text(nbb_formatted_code);\n",
       "                        }\n",
       "                        break;\n",
       "                    }\n",
       "                }\n",
       "            }, 500);\n",
       "            "
      ],
      "text/plain": [
       "<IPython.core.display.Javascript object>"
      ]
     },
     "metadata": {},
     "output_type": "display_data"
    }
   ],
   "source": [
    "model = LogisticRegression(solver=\"liblinear\", random_state=0)\n",
    "model.fit(X_train, y_train)\n",
    "y_pred = model.predict(X_test)\n",
    "\n",
    "# Means close to 8 out of 10 observations are classified correctly\n",
    "model.score(X_test, y_test)"
   ]
  },
  {
   "cell_type": "code",
   "execution_count": 104,
   "metadata": {},
   "outputs": [
    {
     "data": {
      "text/plain": [
       "0.7825263157894737"
      ]
     },
     "execution_count": 104,
     "metadata": {},
     "output_type": "execute_result"
    },
    {
     "data": {
      "application/javascript": [
       "\n",
       "            setTimeout(function() {\n",
       "                var nbb_cell_id = 104;\n",
       "                var nbb_unformatted_code = \"model.score(X_train, y_train)\";\n",
       "                var nbb_formatted_code = \"model.score(X_train, y_train)\";\n",
       "                var nbb_cells = Jupyter.notebook.get_cells();\n",
       "                for (var i = 0; i < nbb_cells.length; ++i) {\n",
       "                    if (nbb_cells[i].input_prompt_number == nbb_cell_id) {\n",
       "                        if (nbb_cells[i].get_text() == nbb_unformatted_code) {\n",
       "                             nbb_cells[i].set_text(nbb_formatted_code);\n",
       "                        }\n",
       "                        break;\n",
       "                    }\n",
       "                }\n",
       "            }, 500);\n",
       "            "
      ],
      "text/plain": [
       "<IPython.core.display.Javascript object>"
      ]
     },
     "metadata": {},
     "output_type": "display_data"
    }
   ],
   "source": [
    "model.score(X_train, y_train)"
   ]
  },
  {
   "cell_type": "code",
   "execution_count": 116,
   "metadata": {},
   "outputs": [
    {
     "data": {
      "image/png": "[encoded data removed]",
      "text/plain": [
       "<Figure size 432x288 with 1 Axes>"
      ]
     },
     "metadata": {
      "needs_background": "light"
     },
     "output_type": "display_data"
    },
    {
     "data": {
      "application/javascript": [
       "\n",
       "            setTimeout(function() {\n",
       "                var nbb_cell_id = 116;\n",
       "                var nbb_unformatted_code = \"lr_probs = model.predict_proba(X_test)\\nlr_probs = lr_probs[:, 1]\\nfpr, tpr, _ = roc_curve(y_test.values, lr_probs)\\n\\nlr_auc = roc_auc_score(y_test, lr_probs)\\ntext = 'Logistic: ROC AUC=%.3f' % (lr_auc)\\nx_pos = 0.5\\ny_pos = 0.1\\nplt.text(x_pos, y_pos, text)\\n# plot the roc curve for the model\\nplt.plot(fpr, tpr, marker=\\\".\\\", label=\\\"Logistic\\\")\\n# axis labels\\nplt.xlabel(\\\"False Positive Rate\\\")\\nplt.ylabel(\\\"True Positive Rate\\\")\\n# show the legend\\nplt.legend()\\n\\n\\n# show the plot\\n\\nplt.show()\";\n",
       "                var nbb_formatted_code = \"lr_probs = model.predict_proba(X_test)\\nlr_probs = lr_probs[:, 1]\\nfpr, tpr, _ = roc_curve(y_test.values, lr_probs)\\n\\nlr_auc = roc_auc_score(y_test, lr_probs)\\ntext = \\\"Logistic: ROC AUC=%.3f\\\" % (lr_auc)\\nx_pos = 0.5\\ny_pos = 0.1\\nplt.text(x_pos, y_pos, text)\\n# plot the roc curve for the model\\nplt.plot(fpr, tpr, marker=\\\".\\\", label=\\\"Logistic\\\")\\n# axis labels\\nplt.xlabel(\\\"False Positive Rate\\\")\\nplt.ylabel(\\\"True Positive Rate\\\")\\n# show the legend\\nplt.legend()\\n\\n\\n# show the plot\\n\\nplt.show()\";\n",
       "                var nbb_cells = Jupyter.notebook.get_cells();\n",
       "                for (var i = 0; i < nbb_cells.length; ++i) {\n",
       "                    if (nbb_cells[i].input_prompt_number == nbb_cell_id) {\n",
       "                        if (nbb_cells[i].get_text() == nbb_unformatted_code) {\n",
       "                             nbb_cells[i].set_text(nbb_formatted_code);\n",
       "                        }\n",
       "                        break;\n",
       "                    }\n",
       "                }\n",
       "            }, 500);\n",
       "            "
      ],
      "text/plain": [
       "<IPython.core.display.Javascript object>"
      ]
     },
     "metadata": {},
     "output_type": "display_data"
    }
   ],
   "source": [
    "lr_probs = model.predict_proba(X_test)\n",
    "lr_probs = lr_probs[:, 1]\n",
    "fpr, tpr, _ = roc_curve(y_test.values, lr_probs)\n",
    "\n",
    "lr_auc = roc_auc_score(y_test, lr_probs)\n",
    "text = \"Logistic: ROC AUC=%.3f\" % (lr_auc)\n",
    "x_pos = 0.5\n",
    "y_pos = 0.1\n",
    "plt.text(x_pos, y_pos, text)\n",
    "# plot the roc curve for the model\n",
    "plt.plot(fpr, tpr, marker=\".\", label=\"Logistic\")\n",
    "# axis labels\n",
    "plt.xlabel(\"False Positive Rate\")\n",
    "plt.ylabel(\"True Positive Rate\")\n",
    "# show the legend\n",
    "plt.legend()\n",
    "\n",
    "\n",
    "# show the plot\n",
    "\n",
    "plt.show()"
   ]
  },
  {
   "cell_type": "code",
   "execution_count": 117,
   "metadata": {},
   "outputs": [
    {
     "name": "stdout",
     "output_type": "stream",
     "text": [
      "              precision    recall  f1-score   support\n",
      "\n",
      "         0.0       0.89      0.71      0.79     19120\n",
      "         1.0       0.69      0.88      0.77     14131\n",
      "\n",
      "    accuracy                           0.78     33251\n",
      "   macro avg       0.79      0.79      0.78     33251\n",
      "weighted avg       0.80      0.78      0.78     33251\n",
      "\n"
     ]
    },
    {
     "data": {
      "application/javascript": [
       "\n",
       "            setTimeout(function() {\n",
       "                var nbb_cell_id = 117;\n",
       "                var nbb_unformatted_code = \"print(classification_report(y_test, y_pred))\";\n",
       "                var nbb_formatted_code = \"print(classification_report(y_test, y_pred))\";\n",
       "                var nbb_cells = Jupyter.notebook.get_cells();\n",
       "                for (var i = 0; i < nbb_cells.length; ++i) {\n",
       "                    if (nbb_cells[i].input_prompt_number == nbb_cell_id) {\n",
       "                        if (nbb_cells[i].get_text() == nbb_unformatted_code) {\n",
       "                             nbb_cells[i].set_text(nbb_formatted_code);\n",
       "                        }\n",
       "                        break;\n",
       "                    }\n",
       "                }\n",
       "            }, 500);\n",
       "            "
      ],
      "text/plain": [
       "<IPython.core.display.Javascript object>"
      ]
     },
     "metadata": {},
     "output_type": "display_data"
    }
   ],
   "source": [
    "print(classification_report(y_test, y_pred))"
   ]
  },
  {
   "cell_type": "markdown",
   "metadata": {},
   "source": [
    "#### Base Model + Weaken Regularisation "
   ]
  },
  {
   "cell_type": "code",
   "execution_count": 119,
   "metadata": {},
   "outputs": [
    {
     "data": {
      "text/plain": [
       "0.7820215933355388"
      ]
     },
     "execution_count": 119,
     "metadata": {},
     "output_type": "execute_result"
    },
    {
     "data": {
      "application/javascript": [
       "\n",
       "            setTimeout(function() {\n",
       "                var nbb_cell_id = 119;\n",
       "                var nbb_unformatted_code = \"\\nmodel = LogisticRegression(solver='liblinear', C=10, random_state=0)\\nmodel.fit(X_train, y_train)\\ny_pred = model.predict(X_test)\\n\\n#Means close to 8 out of 10 obserations are classified correctly\\nmodel.score(X_test, y_test)\";\n",
       "                var nbb_formatted_code = \"model = LogisticRegression(solver=\\\"liblinear\\\", C=10, random_state=0)\\nmodel.fit(X_train, y_train)\\ny_pred = model.predict(X_test)\\n\\n# Means close to 8 out of 10 obserations are classified correctly\\nmodel.score(X_test, y_test)\";\n",
       "                var nbb_cells = Jupyter.notebook.get_cells();\n",
       "                for (var i = 0; i < nbb_cells.length; ++i) {\n",
       "                    if (nbb_cells[i].input_prompt_number == nbb_cell_id) {\n",
       "                        if (nbb_cells[i].get_text() == nbb_unformatted_code) {\n",
       "                             nbb_cells[i].set_text(nbb_formatted_code);\n",
       "                        }\n",
       "                        break;\n",
       "                    }\n",
       "                }\n",
       "            }, 500);\n",
       "            "
      ],
      "text/plain": [
       "<IPython.core.display.Javascript object>"
      ]
     },
     "metadata": {},
     "output_type": "display_data"
    }
   ],
   "source": [
    "model = LogisticRegression(solver=\"liblinear\", C=10, random_state=0)\n",
    "model.fit(X_train, y_train)\n",
    "y_pred = model.predict(X_test)\n",
    "\n",
    "# Means close to 8 out of 10 obserations are classified correctly\n",
    "model.score(X_test, y_test)"
   ]
  },
  {
   "cell_type": "code",
   "execution_count": 120,
   "metadata": {},
   "outputs": [
    {
     "data": {
      "text/plain": [
       "0.7827067669172932"
      ]
     },
     "execution_count": 120,
     "metadata": {},
     "output_type": "execute_result"
    },
    {
     "data": {
      "application/javascript": [
       "\n",
       "            setTimeout(function() {\n",
       "                var nbb_cell_id = 120;\n",
       "                var nbb_unformatted_code = \"model.score(X_train, y_train)\";\n",
       "                var nbb_formatted_code = \"model.score(X_train, y_train)\";\n",
       "                var nbb_cells = Jupyter.notebook.get_cells();\n",
       "                for (var i = 0; i < nbb_cells.length; ++i) {\n",
       "                    if (nbb_cells[i].input_prompt_number == nbb_cell_id) {\n",
       "                        if (nbb_cells[i].get_text() == nbb_unformatted_code) {\n",
       "                             nbb_cells[i].set_text(nbb_formatted_code);\n",
       "                        }\n",
       "                        break;\n",
       "                    }\n",
       "                }\n",
       "            }, 500);\n",
       "            "
      ],
      "text/plain": [
       "<IPython.core.display.Javascript object>"
      ]
     },
     "metadata": {},
     "output_type": "display_data"
    }
   ],
   "source": [
    "model.score(X_train, y_train)"
   ]
  },
  {
   "cell_type": "markdown",
   "metadata": {},
   "source": [
    "Only a marginal improvement from Base Model"
   ]
  },
  {
   "cell_type": "markdown",
   "metadata": {},
   "source": [
    "#### Base Model +  normalised data"
   ]
  },
  {
   "cell_type": "code",
   "execution_count": 123,
   "metadata": {},
   "outputs": [
    {
     "data": {
      "application/javascript": [
       "\n",
       "            setTimeout(function() {\n",
       "                var nbb_cell_id = 123;\n",
       "                var nbb_unformatted_code = \"# Normalizing continuous variables\\nscaler = MinMaxScaler(feature_range = (0,1))\\n\\nscaler.fit(X_train)\\nX_train_scaled = scaler.transform(X_train)\\nX_test_scaled = scaler.transform(X_test)\";\n",
       "                var nbb_formatted_code = \"# Normalizing continuous variables\\nscaler = MinMaxScaler(feature_range=(0, 1))\\n\\nscaler.fit(X_train)\\nX_train_scaled = scaler.transform(X_train)\\nX_test_scaled = scaler.transform(X_test)\";\n",
       "                var nbb_cells = Jupyter.notebook.get_cells();\n",
       "                for (var i = 0; i < nbb_cells.length; ++i) {\n",
       "                    if (nbb_cells[i].input_prompt_number == nbb_cell_id) {\n",
       "                        if (nbb_cells[i].get_text() == nbb_unformatted_code) {\n",
       "                             nbb_cells[i].set_text(nbb_formatted_code);\n",
       "                        }\n",
       "                        break;\n",
       "                    }\n",
       "                }\n",
       "            }, 500);\n",
       "            "
      ],
      "text/plain": [
       "<IPython.core.display.Javascript object>"
      ]
     },
     "metadata": {},
     "output_type": "display_data"
    }
   ],
   "source": [
    "# Normalizing continuous variables\n",
    "scaler = MinMaxScaler(feature_range=(0, 1))\n",
    "\n",
    "scaler.fit(X_train)\n",
    "X_train_scaled = scaler.transform(X_train)\n",
    "X_test_scaled = scaler.transform(X_test)"
   ]
  },
  {
   "cell_type": "code",
   "execution_count": 125,
   "metadata": {},
   "outputs": [
    {
     "data": {
      "text/plain": [
       "0.7935701181919341"
      ]
     },
     "execution_count": 125,
     "metadata": {},
     "output_type": "execute_result"
    },
    {
     "data": {
      "application/javascript": [
       "\n",
       "            setTimeout(function() {\n",
       "                var nbb_cell_id = 125;\n",
       "                var nbb_unformatted_code = \"model = LogisticRegression(solver=\\\"liblinear\\\", random_state=0)\\nmodel.fit(X_train_scaled, y_train)\\ny_pred = model.predict(X_test_scaled)\\n\\nmodel.score(X_test_scaled, y_test)\";\n",
       "                var nbb_formatted_code = \"model = LogisticRegression(solver=\\\"liblinear\\\", random_state=0)\\nmodel.fit(X_train_scaled, y_train)\\ny_pred = model.predict(X_test_scaled)\\n\\nmodel.score(X_test_scaled, y_test)\";\n",
       "                var nbb_cells = Jupyter.notebook.get_cells();\n",
       "                for (var i = 0; i < nbb_cells.length; ++i) {\n",
       "                    if (nbb_cells[i].input_prompt_number == nbb_cell_id) {\n",
       "                        if (nbb_cells[i].get_text() == nbb_unformatted_code) {\n",
       "                             nbb_cells[i].set_text(nbb_formatted_code);\n",
       "                        }\n",
       "                        break;\n",
       "                    }\n",
       "                }\n",
       "            }, 500);\n",
       "            "
      ],
      "text/plain": [
       "<IPython.core.display.Javascript object>"
      ]
     },
     "metadata": {},
     "output_type": "display_data"
    }
   ],
   "source": [
    "model = LogisticRegression(solver=\"liblinear\", random_state=0)\n",
    "model.fit(X_train_scaled, y_train)\n",
    "y_pred = model.predict(X_test_scaled)\n",
    "\n",
    "model.score(X_test_scaled, y_test)"
   ]
  },
  {
   "cell_type": "code",
   "execution_count": 126,
   "metadata": {},
   "outputs": [
    {
     "data": {
      "text/plain": [
       "0.7907669172932331"
      ]
     },
     "execution_count": 126,
     "metadata": {},
     "output_type": "execute_result"
    },
    {
     "data": {
      "application/javascript": [
       "\n",
       "            setTimeout(function() {\n",
       "                var nbb_cell_id = 126;\n",
       "                var nbb_unformatted_code = \"model.score(X_train_scaled, y_train)\";\n",
       "                var nbb_formatted_code = \"model.score(X_train_scaled, y_train)\";\n",
       "                var nbb_cells = Jupyter.notebook.get_cells();\n",
       "                for (var i = 0; i < nbb_cells.length; ++i) {\n",
       "                    if (nbb_cells[i].input_prompt_number == nbb_cell_id) {\n",
       "                        if (nbb_cells[i].get_text() == nbb_unformatted_code) {\n",
       "                             nbb_cells[i].set_text(nbb_formatted_code);\n",
       "                        }\n",
       "                        break;\n",
       "                    }\n",
       "                }\n",
       "            }, 500);\n",
       "            "
      ],
      "text/plain": [
       "<IPython.core.display.Javascript object>"
      ]
     },
     "metadata": {},
     "output_type": "display_data"
    }
   ],
   "source": [
    "model.score(X_train_scaled, y_train)"
   ]
  },
  {
   "cell_type": "markdown",
   "metadata": {},
   "source": [
    "Accuracy improves by over 1%"
   ]
  },
  {
   "cell_type": "code",
   "execution_count": 127,
   "metadata": {},
   "outputs": [
    {
     "data": {
      "image/png": "[encoded data removed]",
      "text/plain": [
       "<Figure size 432x288 with 1 Axes>"
      ]
     },
     "metadata": {
      "needs_background": "light"
     },
     "output_type": "display_data"
    },
    {
     "data": {
      "application/javascript": [
       "\n",
       "            setTimeout(function() {\n",
       "                var nbb_cell_id = 127;\n",
       "                var nbb_unformatted_code = \"lr_probs = model.predict_proba(X_test_scaled)\\nlr_probs = lr_probs[:, 1]\\nfpr, tpr, _ = roc_curve(y_test.values,lr_probs)\\n\\nlr_auc = roc_auc_score(y_test, lr_probs)\\ntext = \\\"Logistic: ROC AUC=%.3f\\\" % (lr_auc)\\nx_pos = 0.5\\ny_pos = 0.1\\nplt.text(x_pos, y_pos, text)\\n# plot the roc curve for the model\\nplt.plot(fpr, tpr, marker='.', label='Logistic')\\n# axis labels\\nplt.xlabel('False Positive Rate')\\nplt.ylabel('True Positive Rate')\\n# show the legend\\nplt.legend()\\n# show the plot\\nplt.show()\";\n",
       "                var nbb_formatted_code = \"lr_probs = model.predict_proba(X_test_scaled)\\nlr_probs = lr_probs[:, 1]\\nfpr, tpr, _ = roc_curve(y_test.values, lr_probs)\\n\\nlr_auc = roc_auc_score(y_test, lr_probs)\\ntext = \\\"Logistic: ROC AUC=%.3f\\\" % (lr_auc)\\nx_pos = 0.5\\ny_pos = 0.1\\nplt.text(x_pos, y_pos, text)\\n# plot the roc curve for the model\\nplt.plot(fpr, tpr, marker=\\\".\\\", label=\\\"Logistic\\\")\\n# axis labels\\nplt.xlabel(\\\"False Positive Rate\\\")\\nplt.ylabel(\\\"True Positive Rate\\\")\\n# show the legend\\nplt.legend()\\n# show the plot\\nplt.show()\";\n",
       "                var nbb_cells = Jupyter.notebook.get_cells();\n",
       "                for (var i = 0; i < nbb_cells.length; ++i) {\n",
       "                    if (nbb_cells[i].input_prompt_number == nbb_cell_id) {\n",
       "                        if (nbb_cells[i].get_text() == nbb_unformatted_code) {\n",
       "                             nbb_cells[i].set_text(nbb_formatted_code);\n",
       "                        }\n",
       "                        break;\n",
       "                    }\n",
       "                }\n",
       "            }, 500);\n",
       "            "
      ],
      "text/plain": [
       "<IPython.core.display.Javascript object>"
      ]
     },
     "metadata": {},
     "output_type": "display_data"
    }
   ],
   "source": [
    "lr_probs = model.predict_proba(X_test_scaled)\n",
    "lr_probs = lr_probs[:, 1]\n",
    "fpr, tpr, _ = roc_curve(y_test.values, lr_probs)\n",
    "\n",
    "lr_auc = roc_auc_score(y_test, lr_probs)\n",
    "text = \"Logistic: ROC AUC=%.3f\" % (lr_auc)\n",
    "x_pos = 0.5\n",
    "y_pos = 0.1\n",
    "plt.text(x_pos, y_pos, text)\n",
    "# plot the roc curve for the model\n",
    "plt.plot(fpr, tpr, marker=\".\", label=\"Logistic\")\n",
    "# axis labels\n",
    "plt.xlabel(\"False Positive Rate\")\n",
    "plt.ylabel(\"True Positive Rate\")\n",
    "# show the legend\n",
    "plt.legend()\n",
    "# show the plot\n",
    "plt.show()"
   ]
  },
  {
   "cell_type": "code",
   "execution_count": 1072,
   "metadata": {},
   "outputs": [
    {
     "name": "stdout",
     "output_type": "stream",
     "text": [
      "              precision    recall  f1-score   support\n",
      "\n",
      "         0.0       0.89      0.74      0.80     19120\n",
      "         1.0       0.71      0.87      0.78     14131\n",
      "\n",
      "    accuracy                           0.79     33251\n",
      "   macro avg       0.80      0.80      0.79     33251\n",
      "weighted avg       0.81      0.79      0.79     33251\n",
      "\n"
     ]
    }
   ],
   "source": [
    "print(classification_report(y_test, y_pred))"
   ]
  },
  {
   "cell_type": "markdown",
   "metadata": {},
   "source": [
    "Accuracy, AUC, weighted average precision and recall and f1-score are higher after normalising data compared to baseline model"
   ]
  },
  {
   "cell_type": "markdown",
   "metadata": {},
   "source": [
    "#### Random Forest Classifier"
   ]
  },
  {
   "cell_type": "markdown",
   "metadata": {},
   "source": [
    "Without normalisation"
   ]
  },
  {
   "cell_type": "code",
   "execution_count": 151,
   "metadata": {},
   "outputs": [
    {
     "data": {
      "application/javascript": [
       "\n",
       "            setTimeout(function() {\n",
       "                var nbb_cell_id = 151;\n",
       "                var nbb_unformatted_code = \"clf = RandomForestClassifier(random_state=0)\";\n",
       "                var nbb_formatted_code = \"clf = RandomForestClassifier(random_state=0)\";\n",
       "                var nbb_cells = Jupyter.notebook.get_cells();\n",
       "                for (var i = 0; i < nbb_cells.length; ++i) {\n",
       "                    if (nbb_cells[i].input_prompt_number == nbb_cell_id) {\n",
       "                        if (nbb_cells[i].get_text() == nbb_unformatted_code) {\n",
       "                             nbb_cells[i].set_text(nbb_formatted_code);\n",
       "                        }\n",
       "                        break;\n",
       "                    }\n",
       "                }\n",
       "            }, 500);\n",
       "            "
      ],
      "text/plain": [
       "<IPython.core.display.Javascript object>"
      ]
     },
     "metadata": {},
     "output_type": "display_data"
    }
   ],
   "source": [
    "clf = RandomForestClassifier(random_state=0)"
   ]
  },
  {
   "cell_type": "code",
   "execution_count": 152,
   "metadata": {},
   "outputs": [
    {
     "data": {
      "text/plain": [
       "RandomForestClassifier(random_state=0)"
      ]
     },
     "execution_count": 152,
     "metadata": {},
     "output_type": "execute_result"
    },
    {
     "data": {
      "application/javascript": [
       "\n",
       "            setTimeout(function() {\n",
       "                var nbb_cell_id = 152;\n",
       "                var nbb_unformatted_code = \"clf.fit(X_train, y_train)\";\n",
       "                var nbb_formatted_code = \"clf.fit(X_train, y_train)\";\n",
       "                var nbb_cells = Jupyter.notebook.get_cells();\n",
       "                for (var i = 0; i < nbb_cells.length; ++i) {\n",
       "                    if (nbb_cells[i].input_prompt_number == nbb_cell_id) {\n",
       "                        if (nbb_cells[i].get_text() == nbb_unformatted_code) {\n",
       "                             nbb_cells[i].set_text(nbb_formatted_code);\n",
       "                        }\n",
       "                        break;\n",
       "                    }\n",
       "                }\n",
       "            }, 500);\n",
       "            "
      ],
      "text/plain": [
       "<IPython.core.display.Javascript object>"
      ]
     },
     "metadata": {},
     "output_type": "display_data"
    }
   ],
   "source": [
    "clf.fit(X_train, y_train)"
   ]
  },
  {
   "cell_type": "code",
   "execution_count": 153,
   "metadata": {},
   "outputs": [
    {
     "data": {
      "application/javascript": [
       "\n",
       "            setTimeout(function() {\n",
       "                var nbb_cell_id = 153;\n",
       "                var nbb_unformatted_code = \"y_pred = clf.predict(X_test)\";\n",
       "                var nbb_formatted_code = \"y_pred = clf.predict(X_test)\";\n",
       "                var nbb_cells = Jupyter.notebook.get_cells();\n",
       "                for (var i = 0; i < nbb_cells.length; ++i) {\n",
       "                    if (nbb_cells[i].input_prompt_number == nbb_cell_id) {\n",
       "                        if (nbb_cells[i].get_text() == nbb_unformatted_code) {\n",
       "                             nbb_cells[i].set_text(nbb_formatted_code);\n",
       "                        }\n",
       "                        break;\n",
       "                    }\n",
       "                }\n",
       "            }, 500);\n",
       "            "
      ],
      "text/plain": [
       "<IPython.core.display.Javascript object>"
      ]
     },
     "metadata": {},
     "output_type": "display_data"
    }
   ],
   "source": [
    "y_pred = clf.predict(X_test)\n"
   ]
  },
  {
   "cell_type": "code",
   "execution_count": 154,
   "metadata": {},
   "outputs": [
    {
     "data": {
      "text/plain": [
       "0.806441911521458"
      ]
     },
     "execution_count": 154,
     "metadata": {},
     "output_type": "execute_result"
    },
    {
     "data": {
      "application/javascript": [
       "\n",
       "            setTimeout(function() {\n",
       "                var nbb_cell_id = 154;\n",
       "                var nbb_unformatted_code = \"clf.score(X_test, y_test)\";\n",
       "                var nbb_formatted_code = \"clf.score(X_test, y_test)\";\n",
       "                var nbb_cells = Jupyter.notebook.get_cells();\n",
       "                for (var i = 0; i < nbb_cells.length; ++i) {\n",
       "                    if (nbb_cells[i].input_prompt_number == nbb_cell_id) {\n",
       "                        if (nbb_cells[i].get_text() == nbb_unformatted_code) {\n",
       "                             nbb_cells[i].set_text(nbb_formatted_code);\n",
       "                        }\n",
       "                        break;\n",
       "                    }\n",
       "                }\n",
       "            }, 500);\n",
       "            "
      ],
      "text/plain": [
       "<IPython.core.display.Javascript object>"
      ]
     },
     "metadata": {},
     "output_type": "display_data"
    }
   ],
   "source": [
    "clf.score(X_test, y_test)"
   ]
  },
  {
   "cell_type": "code",
   "execution_count": 155,
   "metadata": {},
   "outputs": [
    {
     "data": {
      "text/plain": [
       "0.9909172932330828"
      ]
     },
     "execution_count": 155,
     "metadata": {},
     "output_type": "execute_result"
    },
    {
     "data": {
      "application/javascript": [
       "\n",
       "            setTimeout(function() {\n",
       "                var nbb_cell_id = 155;\n",
       "                var nbb_unformatted_code = \"clf.score(X_train, y_train)\";\n",
       "                var nbb_formatted_code = \"clf.score(X_train, y_train)\";\n",
       "                var nbb_cells = Jupyter.notebook.get_cells();\n",
       "                for (var i = 0; i < nbb_cells.length; ++i) {\n",
       "                    if (nbb_cells[i].input_prompt_number == nbb_cell_id) {\n",
       "                        if (nbb_cells[i].get_text() == nbb_unformatted_code) {\n",
       "                             nbb_cells[i].set_text(nbb_formatted_code);\n",
       "                        }\n",
       "                        break;\n",
       "                    }\n",
       "                }\n",
       "            }, 500);\n",
       "            "
      ],
      "text/plain": [
       "<IPython.core.display.Javascript object>"
      ]
     },
     "metadata": {},
     "output_type": "display_data"
    }
   ],
   "source": [
    "clf.score(X_train, y_train)"
   ]
  },
  {
   "cell_type": "code",
   "execution_count": 156,
   "metadata": {},
   "outputs": [
    {
     "data": {
      "image/png": "[encoded data removed]",
      "text/plain": [
       "<Figure size 432x288 with 1 Axes>"
      ]
     },
     "metadata": {
      "needs_background": "light"
     },
     "output_type": "display_data"
    },
    {
     "data": {
      "application/javascript": [
       "\n",
       "            setTimeout(function() {\n",
       "                var nbb_cell_id = 156;\n",
       "                var nbb_unformatted_code = \"lr_probs = clf.predict_proba(X_test)\\nlr_probs = lr_probs[:, 1]\\nfpr, tpr, _ = roc_curve(y_test.values, lr_probs)\\n\\nlr_auc = roc_auc_score(y_test, lr_probs)\\ntext = \\\"Logistic: ROC AUC=%.3f\\\" % (lr_auc)\\nx_pos = 0.5\\ny_pos = 0.1\\nplt.text(x_pos, y_pos, text)\\n# plot the roc curve for the model\\nplt.plot(fpr, tpr, marker=\\\".\\\", label=\\\"Logistic\\\")\\n# axis labels\\nplt.xlabel(\\\"False Positive Rate\\\")\\nplt.ylabel(\\\"True Positive Rate\\\")\\n# show the legend\\nplt.legend()\\n# show the plot\\nplt.show()\";\n",
       "                var nbb_formatted_code = \"lr_probs = clf.predict_proba(X_test)\\nlr_probs = lr_probs[:, 1]\\nfpr, tpr, _ = roc_curve(y_test.values, lr_probs)\\n\\nlr_auc = roc_auc_score(y_test, lr_probs)\\ntext = \\\"Logistic: ROC AUC=%.3f\\\" % (lr_auc)\\nx_pos = 0.5\\ny_pos = 0.1\\nplt.text(x_pos, y_pos, text)\\n# plot the roc curve for the model\\nplt.plot(fpr, tpr, marker=\\\".\\\", label=\\\"Logistic\\\")\\n# axis labels\\nplt.xlabel(\\\"False Positive Rate\\\")\\nplt.ylabel(\\\"True Positive Rate\\\")\\n# show the legend\\nplt.legend()\\n# show the plot\\nplt.show()\";\n",
       "                var nbb_cells = Jupyter.notebook.get_cells();\n",
       "                for (var i = 0; i < nbb_cells.length; ++i) {\n",
       "                    if (nbb_cells[i].input_prompt_number == nbb_cell_id) {\n",
       "                        if (nbb_cells[i].get_text() == nbb_unformatted_code) {\n",
       "                             nbb_cells[i].set_text(nbb_formatted_code);\n",
       "                        }\n",
       "                        break;\n",
       "                    }\n",
       "                }\n",
       "            }, 500);\n",
       "            "
      ],
      "text/plain": [
       "<IPython.core.display.Javascript object>"
      ]
     },
     "metadata": {},
     "output_type": "display_data"
    }
   ],
   "source": [
    "lr_probs = clf.predict_proba(X_test)\n",
    "lr_probs = lr_probs[:, 1]\n",
    "fpr, tpr, _ = roc_curve(y_test.values, lr_probs)\n",
    "\n",
    "lr_auc = roc_auc_score(y_test, lr_probs)\n",
    "text = \"Logistic: ROC AUC=%.3f\" % (lr_auc)\n",
    "x_pos = 0.5\n",
    "y_pos = 0.1\n",
    "plt.text(x_pos, y_pos, text)\n",
    "# plot the roc curve for the model\n",
    "plt.plot(fpr, tpr, marker=\".\", label=\"Logistic\")\n",
    "# axis labels\n",
    "plt.xlabel(\"False Positive Rate\")\n",
    "plt.ylabel(\"True Positive Rate\")\n",
    "# show the legend\n",
    "plt.legend()\n",
    "# show the plot\n",
    "plt.show()"
   ]
  },
  {
   "cell_type": "code",
   "execution_count": 157,
   "metadata": {},
   "outputs": [
    {
     "name": "stdout",
     "output_type": "stream",
     "text": [
      "              precision    recall  f1-score   support\n",
      "\n",
      "         0.0       0.84      0.82      0.83     19120\n",
      "         1.0       0.76      0.79      0.78     14131\n",
      "\n",
      "    accuracy                           0.81     33251\n",
      "   macro avg       0.80      0.80      0.80     33251\n",
      "weighted avg       0.81      0.81      0.81     33251\n",
      "\n"
     ]
    },
    {
     "data": {
      "application/javascript": [
       "\n",
       "            setTimeout(function() {\n",
       "                var nbb_cell_id = 157;\n",
       "                var nbb_unformatted_code = \"print(classification_report(y_test, y_pred))\";\n",
       "                var nbb_formatted_code = \"print(classification_report(y_test, y_pred))\";\n",
       "                var nbb_cells = Jupyter.notebook.get_cells();\n",
       "                for (var i = 0; i < nbb_cells.length; ++i) {\n",
       "                    if (nbb_cells[i].input_prompt_number == nbb_cell_id) {\n",
       "                        if (nbb_cells[i].get_text() == nbb_unformatted_code) {\n",
       "                             nbb_cells[i].set_text(nbb_formatted_code);\n",
       "                        }\n",
       "                        break;\n",
       "                    }\n",
       "                }\n",
       "            }, 500);\n",
       "            "
      ],
      "text/plain": [
       "<IPython.core.display.Javascript object>"
      ]
     },
     "metadata": {},
     "output_type": "display_data"
    }
   ],
   "source": [
    "print(classification_report(y_test, y_pred))"
   ]
  },
  {
   "cell_type": "markdown",
   "metadata": {},
   "source": [
    "Even without hyperparameter tuning, Random Forest does better in test data than logistic regression. "
   ]
  },
  {
   "cell_type": "markdown",
   "metadata": {},
   "source": [
    "With normalisation"
   ]
  },
  {
   "cell_type": "code",
   "execution_count": 159,
   "metadata": {},
   "outputs": [
    {
     "data": {
      "text/plain": [
       "RandomForestClassifier(random_state=0)"
      ]
     },
     "execution_count": 159,
     "metadata": {},
     "output_type": "execute_result"
    },
    {
     "data": {
      "application/javascript": [
       "\n",
       "            setTimeout(function() {\n",
       "                var nbb_cell_id = 159;\n",
       "                var nbb_unformatted_code = \"clf.fit(X_train_scaled, y_train)\";\n",
       "                var nbb_formatted_code = \"clf.fit(X_train_scaled, y_train)\";\n",
       "                var nbb_cells = Jupyter.notebook.get_cells();\n",
       "                for (var i = 0; i < nbb_cells.length; ++i) {\n",
       "                    if (nbb_cells[i].input_prompt_number == nbb_cell_id) {\n",
       "                        if (nbb_cells[i].get_text() == nbb_unformatted_code) {\n",
       "                             nbb_cells[i].set_text(nbb_formatted_code);\n",
       "                        }\n",
       "                        break;\n",
       "                    }\n",
       "                }\n",
       "            }, 500);\n",
       "            "
      ],
      "text/plain": [
       "<IPython.core.display.Javascript object>"
      ]
     },
     "metadata": {},
     "output_type": "display_data"
    }
   ],
   "source": [
    "clf.fit(X_train_scaled, y_train)"
   ]
  },
  {
   "cell_type": "code",
   "execution_count": 160,
   "metadata": {},
   "outputs": [
    {
     "data": {
      "text/plain": [
       "0.8071636943249827"
      ]
     },
     "execution_count": 160,
     "metadata": {},
     "output_type": "execute_result"
    },
    {
     "data": {
      "application/javascript": [
       "\n",
       "            setTimeout(function() {\n",
       "                var nbb_cell_id = 160;\n",
       "                var nbb_unformatted_code = \"clf.score(X_test_scaled, y_test)\";\n",
       "                var nbb_formatted_code = \"clf.score(X_test_scaled, y_test)\";\n",
       "                var nbb_cells = Jupyter.notebook.get_cells();\n",
       "                for (var i = 0; i < nbb_cells.length; ++i) {\n",
       "                    if (nbb_cells[i].input_prompt_number == nbb_cell_id) {\n",
       "                        if (nbb_cells[i].get_text() == nbb_unformatted_code) {\n",
       "                             nbb_cells[i].set_text(nbb_formatted_code);\n",
       "                        }\n",
       "                        break;\n",
       "                    }\n",
       "                }\n",
       "            }, 500);\n",
       "            "
      ],
      "text/plain": [
       "<IPython.core.display.Javascript object>"
      ]
     },
     "metadata": {},
     "output_type": "display_data"
    }
   ],
   "source": [
    "clf.score(X_test_scaled, y_test)"
   ]
  },
  {
   "cell_type": "code",
   "execution_count": 161,
   "metadata": {},
   "outputs": [
    {
     "data": {
      "application/javascript": [
       "\n",
       "            setTimeout(function() {\n",
       "                var nbb_cell_id = 161;\n",
       "                var nbb_unformatted_code = \"y_pred = clf.predict(X_test_scaled)\";\n",
       "                var nbb_formatted_code = \"y_pred = clf.predict(X_test_scaled)\";\n",
       "                var nbb_cells = Jupyter.notebook.get_cells();\n",
       "                for (var i = 0; i < nbb_cells.length; ++i) {\n",
       "                    if (nbb_cells[i].input_prompt_number == nbb_cell_id) {\n",
       "                        if (nbb_cells[i].get_text() == nbb_unformatted_code) {\n",
       "                             nbb_cells[i].set_text(nbb_formatted_code);\n",
       "                        }\n",
       "                        break;\n",
       "                    }\n",
       "                }\n",
       "            }, 500);\n",
       "            "
      ],
      "text/plain": [
       "<IPython.core.display.Javascript object>"
      ]
     },
     "metadata": {},
     "output_type": "display_data"
    }
   ],
   "source": [
    "y_pred = clf.predict(X_test_scaled)\n"
   ]
  },
  {
   "cell_type": "code",
   "execution_count": 162,
   "metadata": {},
   "outputs": [
    {
     "data": {
      "text/plain": [
       "0.9909172932330828"
      ]
     },
     "execution_count": 162,
     "metadata": {},
     "output_type": "execute_result"
    },
    {
     "data": {
      "application/javascript": [
       "\n",
       "            setTimeout(function() {\n",
       "                var nbb_cell_id = 162;\n",
       "                var nbb_unformatted_code = \"clf.score(X_train_scaled, y_train)\";\n",
       "                var nbb_formatted_code = \"clf.score(X_train_scaled, y_train)\";\n",
       "                var nbb_cells = Jupyter.notebook.get_cells();\n",
       "                for (var i = 0; i < nbb_cells.length; ++i) {\n",
       "                    if (nbb_cells[i].input_prompt_number == nbb_cell_id) {\n",
       "                        if (nbb_cells[i].get_text() == nbb_unformatted_code) {\n",
       "                             nbb_cells[i].set_text(nbb_formatted_code);\n",
       "                        }\n",
       "                        break;\n",
       "                    }\n",
       "                }\n",
       "            }, 500);\n",
       "            "
      ],
      "text/plain": [
       "<IPython.core.display.Javascript object>"
      ]
     },
     "metadata": {},
     "output_type": "display_data"
    }
   ],
   "source": [
    "clf.score(X_train_scaled, y_train)"
   ]
  },
  {
   "cell_type": "code",
   "execution_count": 200,
   "metadata": {},
   "outputs": [
    {
     "data": {
      "application/javascript": [
       "\n",
       "            setTimeout(function() {\n",
       "                var nbb_cell_id = 200;\n",
       "                var nbb_unformatted_code = \"feature_names = X_train.columns\";\n",
       "                var nbb_formatted_code = \"feature_names = X_train.columns\";\n",
       "                var nbb_cells = Jupyter.notebook.get_cells();\n",
       "                for (var i = 0; i < nbb_cells.length; ++i) {\n",
       "                    if (nbb_cells[i].input_prompt_number == nbb_cell_id) {\n",
       "                        if (nbb_cells[i].get_text() == nbb_unformatted_code) {\n",
       "                             nbb_cells[i].set_text(nbb_formatted_code);\n",
       "                        }\n",
       "                        break;\n",
       "                    }\n",
       "                }\n",
       "            }, 500);\n",
       "            "
      ],
      "text/plain": [
       "<IPython.core.display.Javascript object>"
      ]
     },
     "metadata": {},
     "output_type": "display_data"
    }
   ],
   "source": [
    "feature_names = X_train.columns"
   ]
  },
  {
   "cell_type": "code",
   "execution_count": 201,
   "metadata": {},
   "outputs": [
    {
     "data": {
      "application/javascript": [
       "\n",
       "            setTimeout(function() {\n",
       "                var nbb_cell_id = 201;\n",
       "                var nbb_unformatted_code = \"features_importance_dict = dict(zip(feature_names, clf.feature_importances_))\";\n",
       "                var nbb_formatted_code = \"features_importance_dict = dict(zip(feature_names, clf.feature_importances_))\";\n",
       "                var nbb_cells = Jupyter.notebook.get_cells();\n",
       "                for (var i = 0; i < nbb_cells.length; ++i) {\n",
       "                    if (nbb_cells[i].input_prompt_number == nbb_cell_id) {\n",
       "                        if (nbb_cells[i].get_text() == nbb_unformatted_code) {\n",
       "                             nbb_cells[i].set_text(nbb_formatted_code);\n",
       "                        }\n",
       "                        break;\n",
       "                    }\n",
       "                }\n",
       "            }, 500);\n",
       "            "
      ],
      "text/plain": [
       "<IPython.core.display.Javascript object>"
      ]
     },
     "metadata": {},
     "output_type": "display_data"
    }
   ],
   "source": [
    "features_importance_dict = dict(zip(feature_names, clf.feature_importances_))"
   ]
  },
  {
   "cell_type": "code",
   "execution_count": 202,
   "metadata": {},
   "outputs": [
    {
     "name": "stdout",
     "output_type": "stream",
     "text": [
      "offer_viewed\n",
      "membership_years\n",
      "income\n",
      "age\n",
      "social\n",
      "reward\n",
      "duration\n",
      "difficulty\n",
      "gender_M\n",
      "bogo\n",
      "gender_F\n",
      "mobile\n",
      "discount\n",
      "web\n",
      "gender_O\n",
      "informational\n",
      "email\n"
     ]
    },
    {
     "data": {
      "application/javascript": [
       "\n",
       "            setTimeout(function() {\n",
       "                var nbb_cell_id = 202;\n",
       "                var nbb_unformatted_code = \"for i in list(\\n    sorted(features_importance_dict.items(), key=lambda x: x[1], reverse=True)\\n):\\n    print(i[0])\";\n",
       "                var nbb_formatted_code = \"for i in list(\\n    sorted(features_importance_dict.items(), key=lambda x: x[1], reverse=True)\\n):\\n    print(i[0])\";\n",
       "                var nbb_cells = Jupyter.notebook.get_cells();\n",
       "                for (var i = 0; i < nbb_cells.length; ++i) {\n",
       "                    if (nbb_cells[i].input_prompt_number == nbb_cell_id) {\n",
       "                        if (nbb_cells[i].get_text() == nbb_unformatted_code) {\n",
       "                             nbb_cells[i].set_text(nbb_formatted_code);\n",
       "                        }\n",
       "                        break;\n",
       "                    }\n",
       "                }\n",
       "            }, 500);\n",
       "            "
      ],
      "text/plain": [
       "<IPython.core.display.Javascript object>"
      ]
     },
     "metadata": {},
     "output_type": "display_data"
    }
   ],
   "source": [
    "# Sort according to most importance features\n",
    "for i in list(\n",
    "    sorted(features_importance_dict.items(), key=lambda x: x[1], reverse=True)\n",
    "):\n",
    "    print(i[0])"
   ]
  },
  {
   "cell_type": "markdown",
   "metadata": {},
   "source": [
    "Random Forest + normalised data does marginally better than Random Forest + un-normalised data."
   ]
  },
  {
   "cell_type": "code",
   "execution_count": 138,
   "metadata": {},
   "outputs": [
    {
     "data": {
      "image/png": "[encoded data removed]",
      "text/plain": [
       "<Figure size 432x288 with 1 Axes>"
      ]
     },
     "metadata": {
      "needs_background": "light"
     },
     "output_type": "display_data"
    },
    {
     "data": {
      "application/javascript": [
       "\n",
       "            setTimeout(function() {\n",
       "                var nbb_cell_id = 138;\n",
       "                var nbb_unformatted_code = \"lr_probs = clf.predict_proba(X_test_scaled)\\nlr_probs = lr_probs[:, 1]\\nfpr, tpr, _ = roc_curve(y_test.values,lr_probs)\\n\\nlr_auc = roc_auc_score(y_test, lr_probs)\\ntext = \\\"Logistic: ROC AUC=%.3f\\\" % (lr_auc)\\nx_pos = 0.5\\ny_pos = 0.1\\nplt.text(x_pos, y_pos, text)\\n# plot the roc curve for the model\\nplt.plot(fpr, tpr, marker='.', label='Logistic')\\n# axis labels\\nplt.xlabel('False Positive Rate')\\nplt.ylabel('True Positive Rate')\\n# show the legend\\nplt.legend()\\n# show the plot\\nplt.show()\";\n",
       "                var nbb_formatted_code = \"lr_probs = clf.predict_proba(X_test_scaled)\\nlr_probs = lr_probs[:, 1]\\nfpr, tpr, _ = roc_curve(y_test.values, lr_probs)\\n\\nlr_auc = roc_auc_score(y_test, lr_probs)\\ntext = \\\"Logistic: ROC AUC=%.3f\\\" % (lr_auc)\\nx_pos = 0.5\\ny_pos = 0.1\\nplt.text(x_pos, y_pos, text)\\n# plot the roc curve for the model\\nplt.plot(fpr, tpr, marker=\\\".\\\", label=\\\"Logistic\\\")\\n# axis labels\\nplt.xlabel(\\\"False Positive Rate\\\")\\nplt.ylabel(\\\"True Positive Rate\\\")\\n# show the legend\\nplt.legend()\\n# show the plot\\nplt.show()\";\n",
       "                var nbb_cells = Jupyter.notebook.get_cells();\n",
       "                for (var i = 0; i < nbb_cells.length; ++i) {\n",
       "                    if (nbb_cells[i].input_prompt_number == nbb_cell_id) {\n",
       "                        if (nbb_cells[i].get_text() == nbb_unformatted_code) {\n",
       "                             nbb_cells[i].set_text(nbb_formatted_code);\n",
       "                        }\n",
       "                        break;\n",
       "                    }\n",
       "                }\n",
       "            }, 500);\n",
       "            "
      ],
      "text/plain": [
       "<IPython.core.display.Javascript object>"
      ]
     },
     "metadata": {},
     "output_type": "display_data"
    }
   ],
   "source": [
    "lr_probs = clf.predict_proba(X_test_scaled)\n",
    "lr_probs = lr_probs[:, 1]\n",
    "fpr, tpr, _ = roc_curve(y_test.values, lr_probs)\n",
    "\n",
    "lr_auc = roc_auc_score(y_test, lr_probs)\n",
    "text = \"Logistic: ROC AUC=%.3f\" % (lr_auc)\n",
    "x_pos = 0.5\n",
    "y_pos = 0.1\n",
    "plt.text(x_pos, y_pos, text)\n",
    "# plot the roc curve for the model\n",
    "plt.plot(fpr, tpr, marker=\".\", label=\"Logistic\")\n",
    "# axis labels\n",
    "plt.xlabel(\"False Positive Rate\")\n",
    "plt.ylabel(\"True Positive Rate\")\n",
    "# show the legend\n",
    "plt.legend()\n",
    "# show the plot\n",
    "plt.show()"
   ]
  },
  {
   "cell_type": "code",
   "execution_count": 139,
   "metadata": {},
   "outputs": [
    {
     "name": "stdout",
     "output_type": "stream",
     "text": [
      "              precision    recall  f1-score   support\n",
      "\n",
      "         0.0       0.84      0.82      0.83     19120\n",
      "         1.0       0.76      0.79      0.78     14131\n",
      "\n",
      "    accuracy                           0.81     33251\n",
      "   macro avg       0.80      0.81      0.80     33251\n",
      "weighted avg       0.81      0.81      0.81     33251\n",
      "\n"
     ]
    },
    {
     "data": {
      "application/javascript": [
       "\n",
       "            setTimeout(function() {\n",
       "                var nbb_cell_id = 139;\n",
       "                var nbb_unformatted_code = \"print(classification_report(y_test, y_pred))\";\n",
       "                var nbb_formatted_code = \"print(classification_report(y_test, y_pred))\";\n",
       "                var nbb_cells = Jupyter.notebook.get_cells();\n",
       "                for (var i = 0; i < nbb_cells.length; ++i) {\n",
       "                    if (nbb_cells[i].input_prompt_number == nbb_cell_id) {\n",
       "                        if (nbb_cells[i].get_text() == nbb_unformatted_code) {\n",
       "                             nbb_cells[i].set_text(nbb_formatted_code);\n",
       "                        }\n",
       "                        break;\n",
       "                    }\n",
       "                }\n",
       "            }, 500);\n",
       "            "
      ],
      "text/plain": [
       "<IPython.core.display.Javascript object>"
      ]
     },
     "metadata": {},
     "output_type": "display_data"
    }
   ],
   "source": [
    "print(classification_report(y_test, y_pred))"
   ]
  },
  {
   "cell_type": "markdown",
   "metadata": {},
   "source": [
    "Accuracy, AUC, weighted average recall and f1-score are higher for Random Forest + normalised data compared to Base Model + normalised data"
   ]
  },
  {
   "cell_type": "markdown",
   "metadata": {},
   "source": [
    "#### GridsearchCV"
   ]
  },
  {
   "cell_type": "code",
   "execution_count": 140,
   "metadata": {},
   "outputs": [
    {
     "data": {
      "application/javascript": [
       "\n",
       "            setTimeout(function() {\n",
       "                var nbb_cell_id = 140;\n",
       "                var nbb_unformatted_code = \"params = {\\\"clf__n_estimators\\\":[100,150,200],\\n          \\\"clf__criterion\\\":[\\\"gini\\\", \\\"entropy\\\"],\\n          \\\"clf__max_depth\\\":[8,10,12],\\n          \\\"clf__max_features\\\":[5,10]}\";\n",
       "                var nbb_formatted_code = \"params = {\\n    \\\"clf__n_estimators\\\": [100, 150, 200],\\n    \\\"clf__criterion\\\": [\\\"gini\\\", \\\"entropy\\\"],\\n    \\\"clf__max_depth\\\": [8, 10, 12],\\n    \\\"clf__max_features\\\": [5, 10],\\n}\";\n",
       "                var nbb_cells = Jupyter.notebook.get_cells();\n",
       "                for (var i = 0; i < nbb_cells.length; ++i) {\n",
       "                    if (nbb_cells[i].input_prompt_number == nbb_cell_id) {\n",
       "                        if (nbb_cells[i].get_text() == nbb_unformatted_code) {\n",
       "                             nbb_cells[i].set_text(nbb_formatted_code);\n",
       "                        }\n",
       "                        break;\n",
       "                    }\n",
       "                }\n",
       "            }, 500);\n",
       "            "
      ],
      "text/plain": [
       "<IPython.core.display.Javascript object>"
      ]
     },
     "metadata": {},
     "output_type": "display_data"
    }
   ],
   "source": [
    "params = {\n",
    "    \"clf__n_estimators\": [100, 150, 200],\n",
    "    \"clf__criterion\": [\"gini\", \"entropy\"],\n",
    "    \"clf__max_depth\": [8, 10, 12],\n",
    "    \"clf__max_features\": [5, 10],\n",
    "}"
   ]
  },
  {
   "cell_type": "code",
   "execution_count": 141,
   "metadata": {},
   "outputs": [
    {
     "data": {
      "application/javascript": [
       "\n",
       "            setTimeout(function() {\n",
       "                var nbb_cell_id = 141;\n",
       "                var nbb_unformatted_code = \"pipeline= Pipeline([('scaler',MinMaxScaler(feature_range = (0,1))),\\n                    ('clf',RandomForestClassifier())])\";\n",
       "                var nbb_formatted_code = \"pipeline = Pipeline(\\n    [(\\\"scaler\\\", MinMaxScaler(feature_range=(0, 1))), (\\\"clf\\\", RandomForestClassifier())]\\n)\";\n",
       "                var nbb_cells = Jupyter.notebook.get_cells();\n",
       "                for (var i = 0; i < nbb_cells.length; ++i) {\n",
       "                    if (nbb_cells[i].input_prompt_number == nbb_cell_id) {\n",
       "                        if (nbb_cells[i].get_text() == nbb_unformatted_code) {\n",
       "                             nbb_cells[i].set_text(nbb_formatted_code);\n",
       "                        }\n",
       "                        break;\n",
       "                    }\n",
       "                }\n",
       "            }, 500);\n",
       "            "
      ],
      "text/plain": [
       "<IPython.core.display.Javascript object>"
      ]
     },
     "metadata": {},
     "output_type": "display_data"
    }
   ],
   "source": [
    "pipeline = Pipeline(\n",
    "    [(\"scaler\", MinMaxScaler(feature_range=(0, 1))), (\"clf\", RandomForestClassifier())]\n",
    ")"
   ]
  },
  {
   "cell_type": "code",
   "execution_count": 142,
   "metadata": {},
   "outputs": [
    {
     "data": {
      "application/javascript": [
       "\n",
       "            setTimeout(function() {\n",
       "                var nbb_cell_id = 142;\n",
       "                var nbb_unformatted_code = \"cv = GridSearchCV(pipeline,param_grid=params)\";\n",
       "                var nbb_formatted_code = \"cv = GridSearchCV(pipeline, param_grid=params)\";\n",
       "                var nbb_cells = Jupyter.notebook.get_cells();\n",
       "                for (var i = 0; i < nbb_cells.length; ++i) {\n",
       "                    if (nbb_cells[i].input_prompt_number == nbb_cell_id) {\n",
       "                        if (nbb_cells[i].get_text() == nbb_unformatted_code) {\n",
       "                             nbb_cells[i].set_text(nbb_formatted_code);\n",
       "                        }\n",
       "                        break;\n",
       "                    }\n",
       "                }\n",
       "            }, 500);\n",
       "            "
      ],
      "text/plain": [
       "<IPython.core.display.Javascript object>"
      ]
     },
     "metadata": {},
     "output_type": "display_data"
    }
   ],
   "source": [
    "cv = GridSearchCV(pipeline, param_grid=params)"
   ]
  },
  {
   "cell_type": "code",
   "execution_count": 186,
   "metadata": {},
   "outputs": [
    {
     "data": {
      "text/plain": [
       "GridSearchCV(estimator=Pipeline(steps=[('scaler', MinMaxScaler()),\n",
       "                                       ('clf', RandomForestClassifier())]),\n",
       "             param_grid={'clf__criterion': ['gini', 'entropy'],\n",
       "                         'clf__max_depth': [8, 10, 12],\n",
       "                         'clf__max_features': [5, 10],\n",
       "                         'clf__n_estimators': [100, 150, 200]})"
      ]
     },
     "execution_count": 186,
     "metadata": {},
     "output_type": "execute_result"
    },
    {
     "data": {
      "application/javascript": [
       "\n",
       "            setTimeout(function() {\n",
       "                var nbb_cell_id = 186;\n",
       "                var nbb_unformatted_code = \"cv.fit(X_train, y_train)\";\n",
       "                var nbb_formatted_code = \"cv.fit(X_train, y_train)\";\n",
       "                var nbb_cells = Jupyter.notebook.get_cells();\n",
       "                for (var i = 0; i < nbb_cells.length; ++i) {\n",
       "                    if (nbb_cells[i].input_prompt_number == nbb_cell_id) {\n",
       "                        if (nbb_cells[i].get_text() == nbb_unformatted_code) {\n",
       "                             nbb_cells[i].set_text(nbb_formatted_code);\n",
       "                        }\n",
       "                        break;\n",
       "                    }\n",
       "                }\n",
       "            }, 500);\n",
       "            "
      ],
      "text/plain": [
       "<IPython.core.display.Javascript object>"
      ]
     },
     "metadata": {},
     "output_type": "display_data"
    }
   ],
   "source": [
    "cv.fit(X_train, y_train)"
   ]
  },
  {
   "cell_type": "code",
   "execution_count": 189,
   "metadata": {},
   "outputs": [
    {
     "data": {
      "text/plain": [
       "0.8193738534179423"
      ]
     },
     "execution_count": 189,
     "metadata": {},
     "output_type": "execute_result"
    },
    {
     "data": {
      "application/javascript": [
       "\n",
       "            setTimeout(function() {\n",
       "                var nbb_cell_id = 189;\n",
       "                var nbb_unformatted_code = \"cv.score(X_test, y_test)\";\n",
       "                var nbb_formatted_code = \"cv.score(X_test, y_test)\";\n",
       "                var nbb_cells = Jupyter.notebook.get_cells();\n",
       "                for (var i = 0; i < nbb_cells.length; ++i) {\n",
       "                    if (nbb_cells[i].input_prompt_number == nbb_cell_id) {\n",
       "                        if (nbb_cells[i].get_text() == nbb_unformatted_code) {\n",
       "                             nbb_cells[i].set_text(nbb_formatted_code);\n",
       "                        }\n",
       "                        break;\n",
       "                    }\n",
       "                }\n",
       "            }, 500);\n",
       "            "
      ],
      "text/plain": [
       "<IPython.core.display.Javascript object>"
      ]
     },
     "metadata": {},
     "output_type": "display_data"
    }
   ],
   "source": [
    "cv.score(X_test, y_test)"
   ]
  },
  {
   "cell_type": "code",
   "execution_count": 190,
   "metadata": {},
   "outputs": [
    {
     "data": {
      "text/plain": [
       "0.8870375939849624"
      ]
     },
     "execution_count": 190,
     "metadata": {},
     "output_type": "execute_result"
    },
    {
     "data": {
      "application/javascript": [
       "\n",
       "            setTimeout(function() {\n",
       "                var nbb_cell_id = 190;\n",
       "                var nbb_unformatted_code = \"cv.score(X_train, y_train)\";\n",
       "                var nbb_formatted_code = \"cv.score(X_train, y_train)\";\n",
       "                var nbb_cells = Jupyter.notebook.get_cells();\n",
       "                for (var i = 0; i < nbb_cells.length; ++i) {\n",
       "                    if (nbb_cells[i].input_prompt_number == nbb_cell_id) {\n",
       "                        if (nbb_cells[i].get_text() == nbb_unformatted_code) {\n",
       "                             nbb_cells[i].set_text(nbb_formatted_code);\n",
       "                        }\n",
       "                        break;\n",
       "                    }\n",
       "                }\n",
       "            }, 500);\n",
       "            "
      ],
      "text/plain": [
       "<IPython.core.display.Javascript object>"
      ]
     },
     "metadata": {},
     "output_type": "display_data"
    }
   ],
   "source": [
    "cv.score(X_train, y_train)"
   ]
  },
  {
   "cell_type": "code",
   "execution_count": 191,
   "metadata": {},
   "outputs": [
    {
     "data": {
      "application/javascript": [
       "\n",
       "            setTimeout(function() {\n",
       "                var nbb_cell_id = 191;\n",
       "                var nbb_unformatted_code = \"y_pred = cv.predict(X_test)\";\n",
       "                var nbb_formatted_code = \"y_pred = cv.predict(X_test)\";\n",
       "                var nbb_cells = Jupyter.notebook.get_cells();\n",
       "                for (var i = 0; i < nbb_cells.length; ++i) {\n",
       "                    if (nbb_cells[i].input_prompt_number == nbb_cell_id) {\n",
       "                        if (nbb_cells[i].get_text() == nbb_unformatted_code) {\n",
       "                             nbb_cells[i].set_text(nbb_formatted_code);\n",
       "                        }\n",
       "                        break;\n",
       "                    }\n",
       "                }\n",
       "            }, 500);\n",
       "            "
      ],
      "text/plain": [
       "<IPython.core.display.Javascript object>"
      ]
     },
     "metadata": {},
     "output_type": "display_data"
    }
   ],
   "source": [
    "y_pred = cv.predict(X_test)"
   ]
  },
  {
   "cell_type": "code",
   "execution_count": 192,
   "metadata": {},
   "outputs": [
    {
     "data": {
      "image/png": "[encoded data removed]",
      "text/plain": [
       "<Figure size 432x288 with 1 Axes>"
      ]
     },
     "metadata": {
      "needs_background": "light"
     },
     "output_type": "display_data"
    },
    {
     "data": {
      "application/javascript": [
       "\n",
       "            setTimeout(function() {\n",
       "                var nbb_cell_id = 192;\n",
       "                var nbb_unformatted_code = \"lr_probs = cv.predict_proba(X_test)\\nlr_probs = lr_probs[:, 1]\\nfpr, tpr, _ = roc_curve(y_test.values, lr_probs)\\n\\nlr_auc = roc_auc_score(y_test, lr_probs)\\ntext = \\\"Logistic: ROC AUC=%.3f\\\" % (lr_auc)\\nx_pos = 0.5\\ny_pos = 0.1\\nplt.text(x_pos, y_pos, text)\\n# plot the roc curve for the model\\nplt.plot(fpr, tpr, marker=\\\".\\\", label=\\\"Logistic\\\")\\n# axis labels\\nplt.xlabel(\\\"False Positive Rate\\\")\\nplt.ylabel(\\\"True Positive Rate\\\")\\n# show the legend\\nplt.legend()\\n# show the plot\\nplt.show()\";\n",
       "                var nbb_formatted_code = \"lr_probs = cv.predict_proba(X_test)\\nlr_probs = lr_probs[:, 1]\\nfpr, tpr, _ = roc_curve(y_test.values, lr_probs)\\n\\nlr_auc = roc_auc_score(y_test, lr_probs)\\ntext = \\\"Logistic: ROC AUC=%.3f\\\" % (lr_auc)\\nx_pos = 0.5\\ny_pos = 0.1\\nplt.text(x_pos, y_pos, text)\\n# plot the roc curve for the model\\nplt.plot(fpr, tpr, marker=\\\".\\\", label=\\\"Logistic\\\")\\n# axis labels\\nplt.xlabel(\\\"False Positive Rate\\\")\\nplt.ylabel(\\\"True Positive Rate\\\")\\n# show the legend\\nplt.legend()\\n# show the plot\\nplt.show()\";\n",
       "                var nbb_cells = Jupyter.notebook.get_cells();\n",
       "                for (var i = 0; i < nbb_cells.length; ++i) {\n",
       "                    if (nbb_cells[i].input_prompt_number == nbb_cell_id) {\n",
       "                        if (nbb_cells[i].get_text() == nbb_unformatted_code) {\n",
       "                             nbb_cells[i].set_text(nbb_formatted_code);\n",
       "                        }\n",
       "                        break;\n",
       "                    }\n",
       "                }\n",
       "            }, 500);\n",
       "            "
      ],
      "text/plain": [
       "<IPython.core.display.Javascript object>"
      ]
     },
     "metadata": {},
     "output_type": "display_data"
    }
   ],
   "source": [
    "lr_probs = cv.predict_proba(X_test)\n",
    "lr_probs = lr_probs[:, 1]\n",
    "fpr, tpr, _ = roc_curve(y_test.values, lr_probs)\n",
    "\n",
    "lr_auc = roc_auc_score(y_test, lr_probs)\n",
    "text = \"Logistic: ROC AUC=%.3f\" % (lr_auc)\n",
    "x_pos = 0.5\n",
    "y_pos = 0.1\n",
    "plt.text(x_pos, y_pos, text)\n",
    "# plot the roc curve for the model\n",
    "plt.plot(fpr, tpr, marker=\".\", label=\"Logistic\")\n",
    "# axis labels\n",
    "plt.xlabel(\"False Positive Rate\")\n",
    "plt.ylabel(\"True Positive Rate\")\n",
    "# show the legend\n",
    "plt.legend()\n",
    "# show the plot\n",
    "plt.show()"
   ]
  },
  {
   "cell_type": "markdown",
   "metadata": {},
   "source": [
    "AUC is better, which means perform better across different threshold values"
   ]
  },
  {
   "cell_type": "code",
   "execution_count": 961,
   "metadata": {
    "scrolled": true
   },
   "outputs": [
    {
     "data": {
      "text/plain": [
       "{'clf__criterion': 'entropy',\n",
       " 'clf__max_depth': 12,\n",
       " 'clf__max_features': 10,\n",
       " 'clf__n_estimators': 200}"
      ]
     },
     "execution_count": 961,
     "metadata": {},
     "output_type": "execute_result"
    }
   ],
   "source": [
    "cv.best_params_"
   ]
  },
  {
   "cell_type": "code",
   "execution_count": 193,
   "metadata": {},
   "outputs": [
    {
     "name": "stdout",
     "output_type": "stream",
     "text": [
      "              precision    recall  f1-score   support\n",
      "\n",
      "         0.0       0.87      0.81      0.84     19120\n",
      "         1.0       0.77      0.83      0.80     14131\n",
      "\n",
      "    accuracy                           0.82     33251\n",
      "   macro avg       0.82      0.82      0.82     33251\n",
      "weighted avg       0.82      0.82      0.82     33251\n",
      "\n"
     ]
    },
    {
     "data": {
      "application/javascript": [
       "\n",
       "            setTimeout(function() {\n",
       "                var nbb_cell_id = 193;\n",
       "                var nbb_unformatted_code = \"print(classification_report(y_test, y_pred))\";\n",
       "                var nbb_formatted_code = \"print(classification_report(y_test, y_pred))\";\n",
       "                var nbb_cells = Jupyter.notebook.get_cells();\n",
       "                for (var i = 0; i < nbb_cells.length; ++i) {\n",
       "                    if (nbb_cells[i].input_prompt_number == nbb_cell_id) {\n",
       "                        if (nbb_cells[i].get_text() == nbb_unformatted_code) {\n",
       "                             nbb_cells[i].set_text(nbb_formatted_code);\n",
       "                        }\n",
       "                        break;\n",
       "                    }\n",
       "                }\n",
       "            }, 500);\n",
       "            "
      ],
      "text/plain": [
       "<IPython.core.display.Javascript object>"
      ]
     },
     "metadata": {},
     "output_type": "display_data"
    }
   ],
   "source": [
    "print(classification_report(y_test, y_pred))"
   ]
  },
  {
   "cell_type": "markdown",
   "metadata": {},
   "source": [
    "Better performance after hyperparameter tuning using GridSearch"
   ]
  },
  {
   "cell_type": "code",
   "execution_count": null,
   "metadata": {},
   "outputs": [],
   "source": []
  }
 ],
 "metadata": {
  "kernelspec": {
   "display_name": "Python 3 (ipykernel)",
   "language": "python",
   "name": "python3"
  },
  "language_info": {
   "codemirror_mode": {
    "name": "ipython",
    "version": 3
   },
   "file_extension": ".py",
   "mimetype": "text/x-python",
   "name": "python",
   "nbconvert_exporter": "python",
   "pygments_lexer": "ipython3",
   "version": "3.9.6"
  }
 },
 "nbformat": 4,
 "nbformat_minor": 2
}
